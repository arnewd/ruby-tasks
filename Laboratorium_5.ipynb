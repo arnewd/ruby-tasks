{
 "metadata": {
  "language": "ruby",
  "name": "",
  "signature": "sha256:22abbe68e9b0cf5b15ac019948becf78690ab43a6874d6b555648844c518a1c2"
 },
 "nbformat": 3,
 "nbformat_minor": 0,
 "worksheets": [
  {
   "cells": [
    {
     "cell_type": "heading",
     "level": 1,
     "metadata": {},
     "source": [
      "Zapytania z\u0142o\u017cone"
     ]
    },
    {
     "cell_type": "markdown",
     "metadata": {},
     "source": [
      "Przed rozpocz\u0119ciem pracy konieczne jest skonfigurowanie bazy oraz za\u0142adowanie danych:\n",
      "```ruby\n",
      "$:.unshift \".\"\n",
      "require 'db_setup'\n",
      "require 'db_load'\n",
      "```"
     ]
    },
    {
     "cell_type": "code",
     "collapsed": true,
     "input": [
      "$:.unshift \".\"\n",
      "require 'db_setup'\n",
      "require 'db_load'"
     ],
     "language": "python",
     "metadata": {},
     "outputs": [
      {
       "output_type": "stream",
       "stream": "stdout",
       "text": [
        "==  CreateAuthorsMigration: migrating =========================================\n"
       ]
      },
      {
       "output_type": "stream",
       "stream": "stdout",
       "text": [
        "-- create_table(:authors)\n"
       ]
      },
      {
       "output_type": "stream",
       "stream": "stdout",
       "text": [
        "   -> 0.1071s\n"
       ]
      },
      {
       "output_type": "stream",
       "stream": "stdout",
       "text": [
        "==  CreateAuthorsMigration: migrated (0.1085s) ================================\n"
       ]
      },
      {
       "output_type": "stream",
       "stream": "stdout",
       "text": [
        "\n"
       ]
      },
      {
       "output_type": "stream",
       "stream": "stdout",
       "text": [
        "==  CreateBooksMigration: migrating ===========================================\n"
       ]
      },
      {
       "output_type": "stream",
       "stream": "stdout",
       "text": [
        "-- create_table(:books)\n"
       ]
      },
      {
       "output_type": "stream",
       "stream": "stdout",
       "text": [
        "   -> 0.0647s\n"
       ]
      },
      {
       "output_type": "stream",
       "stream": "stdout",
       "text": [
        "==  CreateBooksMigration: migrated (0.0657s) ==================================\n"
       ]
      },
      {
       "output_type": "stream",
       "stream": "stdout",
       "text": [
        "\n"
       ]
      },
      {
       "output_type": "stream",
       "stream": "stdout",
       "text": [
        "==  CreateGenresMigration: migrating ==========================================\n"
       ]
      },
      {
       "output_type": "stream",
       "stream": "stdout",
       "text": [
        "-- create_table(:genres)\n"
       ]
      },
      {
       "output_type": "stream",
       "stream": "stdout",
       "text": [
        "   -> 0.1015s\n"
       ]
      },
      {
       "output_type": "stream",
       "stream": "stdout",
       "text": [
        "==  CreateGenresMigration: migrated (0.1023s) =================================\n"
       ]
      },
      {
       "output_type": "stream",
       "stream": "stdout",
       "text": [
        "\n"
       ]
      },
      {
       "output_type": "stream",
       "stream": "stdout",
       "text": [
        "==  CreateBooksGenresMigration: migrating =====================================\n"
       ]
      },
      {
       "output_type": "stream",
       "stream": "stdout",
       "text": [
        "-- create_table(:books_genres, {:id=>false})\n"
       ]
      },
      {
       "output_type": "stream",
       "stream": "stdout",
       "text": [
        "   -> 0.0647s\n"
       ]
      },
      {
       "output_type": "stream",
       "stream": "stdout",
       "text": [
        "-- add_index(:books_genres, [:book_id, :genre_id], {:unique=>true})\n"
       ]
      },
      {
       "output_type": "stream",
       "stream": "stdout",
       "text": [
        "   -> 0.0899s\n"
       ]
      },
      {
       "output_type": "stream",
       "stream": "stdout",
       "text": [
        "==  CreateBooksGenresMigration: migrated (0.1562s) ============================\n"
       ]
      },
      {
       "output_type": "stream",
       "stream": "stdout",
       "text": [
        "\n"
       ]
      },
      {
       "output_type": "stream",
       "stream": "stdout",
       "text": [
        "==  AddIndicesMigration: migrating ============================================\n"
       ]
      },
      {
       "output_type": "stream",
       "stream": "stdout",
       "text": [
        "==  AddIndicesMigration: migrated (0.0000s) ===================================\n"
       ]
      },
      {
       "output_type": "stream",
       "stream": "stdout",
       "text": [
        "\n"
       ]
      },
      {
       "output_type": "stream",
       "stream": "stdout",
       "text": [
        "."
       ]
      },
      {
       "output_type": "stream",
       "stream": "stdout",
       "text": [
        "."
       ]
      },
      {
       "output_type": "stream",
       "stream": "stdout",
       "text": [
        "."
       ]
      },
      {
       "output_type": "stream",
       "stream": "stdout",
       "text": [
        "."
       ]
      },
      {
       "output_type": "stream",
       "stream": "stdout",
       "text": [
        "."
       ]
      },
      {
       "output_type": "stream",
       "stream": "stdout",
       "text": [
        "."
       ]
      },
      {
       "output_type": "stream",
       "stream": "stdout",
       "text": [
        "."
       ]
      },
      {
       "output_type": "stream",
       "stream": "stdout",
       "text": [
        "."
       ]
      },
      {
       "output_type": "stream",
       "stream": "stdout",
       "text": [
        "."
       ]
      },
      {
       "output_type": "stream",
       "stream": "stdout",
       "text": [
        "."
       ]
      },
      {
       "output_type": "stream",
       "stream": "stdout",
       "text": [
        "."
       ]
      },
      {
       "output_type": "stream",
       "stream": "stdout",
       "text": [
        "."
       ]
      },
      {
       "output_type": "stream",
       "stream": "stdout",
       "text": [
        "."
       ]
      },
      {
       "output_type": "stream",
       "stream": "stdout",
       "text": [
        "."
       ]
      },
      {
       "output_type": "stream",
       "stream": "stdout",
       "text": [
        "."
       ]
      },
      {
       "output_type": "stream",
       "stream": "stdout",
       "text": [
        "."
       ]
      },
      {
       "output_type": "stream",
       "stream": "stdout",
       "text": [
        "."
       ]
      },
      {
       "output_type": "stream",
       "stream": "stdout",
       "text": [
        "."
       ]
      },
      {
       "output_type": "stream",
       "stream": "stdout",
       "text": [
        "."
       ]
      },
      {
       "output_type": "stream",
       "stream": "stdout",
       "text": [
        "."
       ]
      },
      {
       "output_type": "stream",
       "stream": "stdout",
       "text": [
        "."
       ]
      },
      {
       "output_type": "stream",
       "stream": "stdout",
       "text": [
        "."
       ]
      },
      {
       "output_type": "stream",
       "stream": "stdout",
       "text": [
        "."
       ]
      },
      {
       "output_type": "stream",
       "stream": "stdout",
       "text": [
        "."
       ]
      },
      {
       "output_type": "stream",
       "stream": "stdout",
       "text": [
        "."
       ]
      },
      {
       "output_type": "stream",
       "stream": "stdout",
       "text": [
        "."
       ]
      },
      {
       "output_type": "stream",
       "stream": "stdout",
       "text": [
        "."
       ]
      },
      {
       "output_type": "stream",
       "stream": "stdout",
       "text": [
        "."
       ]
      },
      {
       "output_type": "stream",
       "stream": "stdout",
       "text": [
        "."
       ]
      },
      {
       "output_type": "stream",
       "stream": "stdout",
       "text": [
        "."
       ]
      },
      {
       "output_type": "stream",
       "stream": "stdout",
       "text": [
        "."
       ]
      },
      {
       "output_type": "stream",
       "stream": "stdout",
       "text": [
        "."
       ]
      },
      {
       "output_type": "stream",
       "stream": "stdout",
       "text": [
        "."
       ]
      },
      {
       "output_type": "stream",
       "stream": "stdout",
       "text": [
        "."
       ]
      },
      {
       "output_type": "stream",
       "stream": "stdout",
       "text": [
        "."
       ]
      },
      {
       "output_type": "stream",
       "stream": "stdout",
       "text": [
        "."
       ]
      },
      {
       "output_type": "stream",
       "stream": "stdout",
       "text": [
        "."
       ]
      },
      {
       "output_type": "stream",
       "stream": "stdout",
       "text": [
        "."
       ]
      },
      {
       "output_type": "stream",
       "stream": "stdout",
       "text": [
        "."
       ]
      },
      {
       "output_type": "stream",
       "stream": "stdout",
       "text": [
        "."
       ]
      },
      {
       "output_type": "stream",
       "stream": "stdout",
       "text": [
        "."
       ]
      },
      {
       "output_type": "stream",
       "stream": "stdout",
       "text": [
        "."
       ]
      },
      {
       "output_type": "stream",
       "stream": "stdout",
       "text": [
        "."
       ]
      },
      {
       "output_type": "stream",
       "stream": "stdout",
       "text": [
        "."
       ]
      },
      {
       "output_type": "stream",
       "stream": "stdout",
       "text": [
        "."
       ]
      },
      {
       "output_type": "stream",
       "stream": "stdout",
       "text": [
        "."
       ]
      },
      {
       "output_type": "stream",
       "stream": "stdout",
       "text": [
        "."
       ]
      },
      {
       "output_type": "stream",
       "stream": "stdout",
       "text": [
        "."
       ]
      },
      {
       "output_type": "stream",
       "stream": "stdout",
       "text": [
        "."
       ]
      },
      {
       "output_type": "stream",
       "stream": "stdout",
       "text": [
        "."
       ]
      },
      {
       "output_type": "stream",
       "stream": "stdout",
       "text": [
        "."
       ]
      },
      {
       "output_type": "stream",
       "stream": "stdout",
       "text": [
        "."
       ]
      },
      {
       "output_type": "stream",
       "stream": "stdout",
       "text": [
        "."
       ]
      },
      {
       "output_type": "stream",
       "stream": "stdout",
       "text": [
        "."
       ]
      },
      {
       "output_type": "stream",
       "stream": "stdout",
       "text": [
        "."
       ]
      },
      {
       "output_type": "stream",
       "stream": "stdout",
       "text": [
        "."
       ]
      },
      {
       "output_type": "stream",
       "stream": "stdout",
       "text": [
        "."
       ]
      },
      {
       "output_type": "stream",
       "stream": "stdout",
       "text": [
        "."
       ]
      },
      {
       "output_type": "stream",
       "stream": "stdout",
       "text": [
        "."
       ]
      },
      {
       "output_type": "stream",
       "stream": "stdout",
       "text": [
        "."
       ]
      },
      {
       "output_type": "stream",
       "stream": "stdout",
       "text": [
        "."
       ]
      },
      {
       "output_type": "stream",
       "stream": "stdout",
       "text": [
        "."
       ]
      },
      {
       "output_type": "stream",
       "stream": "stdout",
       "text": [
        "."
       ]
      },
      {
       "output_type": "stream",
       "stream": "stdout",
       "text": [
        "."
       ]
      },
      {
       "output_type": "stream",
       "stream": "stdout",
       "text": [
        "."
       ]
      },
      {
       "output_type": "stream",
       "stream": "stdout",
       "text": [
        "."
       ]
      },
      {
       "output_type": "stream",
       "stream": "stdout",
       "text": [
        "."
       ]
      },
      {
       "output_type": "stream",
       "stream": "stdout",
       "text": [
        "."
       ]
      },
      {
       "output_type": "stream",
       "stream": "stdout",
       "text": [
        "."
       ]
      },
      {
       "output_type": "stream",
       "stream": "stdout",
       "text": [
        "."
       ]
      },
      {
       "output_type": "stream",
       "stream": "stdout",
       "text": [
        "."
       ]
      },
      {
       "output_type": "stream",
       "stream": "stdout",
       "text": [
        "."
       ]
      },
      {
       "output_type": "stream",
       "stream": "stdout",
       "text": [
        "."
       ]
      },
      {
       "output_type": "stream",
       "stream": "stdout",
       "text": [
        "."
       ]
      },
      {
       "output_type": "stream",
       "stream": "stdout",
       "text": [
        "."
       ]
      },
      {
       "output_type": "stream",
       "stream": "stdout",
       "text": [
        "."
       ]
      },
      {
       "output_type": "stream",
       "stream": "stdout",
       "text": [
        "."
       ]
      },
      {
       "output_type": "stream",
       "stream": "stdout",
       "text": [
        "."
       ]
      },
      {
       "output_type": "stream",
       "stream": "stdout",
       "text": [
        "."
       ]
      },
      {
       "output_type": "stream",
       "stream": "stdout",
       "text": [
        "."
       ]
      },
      {
       "output_type": "stream",
       "stream": "stdout",
       "text": [
        "."
       ]
      },
      {
       "output_type": "stream",
       "stream": "stdout",
       "text": [
        "."
       ]
      },
      {
       "output_type": "stream",
       "stream": "stdout",
       "text": [
        "."
       ]
      },
      {
       "output_type": "stream",
       "stream": "stdout",
       "text": [
        "."
       ]
      },
      {
       "output_type": "stream",
       "stream": "stdout",
       "text": [
        "."
       ]
      },
      {
       "output_type": "stream",
       "stream": "stdout",
       "text": [
        "."
       ]
      },
      {
       "output_type": "stream",
       "stream": "stdout",
       "text": [
        "."
       ]
      },
      {
       "output_type": "stream",
       "stream": "stdout",
       "text": [
        "."
       ]
      },
      {
       "output_type": "stream",
       "stream": "stdout",
       "text": [
        "."
       ]
      },
      {
       "output_type": "stream",
       "stream": "stdout",
       "text": [
        "."
       ]
      },
      {
       "output_type": "stream",
       "stream": "stdout",
       "text": [
        "."
       ]
      },
      {
       "output_type": "stream",
       "stream": "stdout",
       "text": [
        "."
       ]
      },
      {
       "output_type": "stream",
       "stream": "stdout",
       "text": [
        "."
       ]
      },
      {
       "output_type": "stream",
       "stream": "stdout",
       "text": [
        "."
       ]
      },
      {
       "output_type": "stream",
       "stream": "stdout",
       "text": [
        "."
       ]
      },
      {
       "output_type": "stream",
       "stream": "stdout",
       "text": [
        "."
       ]
      },
      {
       "output_type": "stream",
       "stream": "stdout",
       "text": [
        "."
       ]
      },
      {
       "metadata": {},
       "output_type": "pyout",
       "prompt_number": 1,
       "text": [
        "true"
       ]
      }
     ],
     "prompt_number": 1
    },
    {
     "cell_type": "markdown",
     "metadata": {},
     "source": [
      "W dalszych zadaniach b\u0119dzie wykonywa\u0107 polecenia korzystaj\u0105c z nast\u0119puj\u0105cych klas, zmapowanych na odpowiadaj\u0105ce im \n",
      "table w bazie danych:\n",
      "```ruby\n",
      "class Author < ActiveRecord::Base\n",
      "  # name      (string)\n",
      "  # surname   (string)\n",
      "  # born      (datetime) \n",
      "  # died      (datetime)\n",
      "  # image_url (string)\n",
      "  \n",
      "  has_many :books\n",
      "end\n",
      "\n",
      "class Book < ActiveRecord::Base\n",
      "  # title     (string)\n",
      "  # author    (Author)\n",
      "  # published (integer)\n",
      "\n",
      "  belongs_to :author\n",
      "end\n",
      "```"
     ]
    },
    {
     "cell_type": "markdown",
     "metadata": {},
     "source": [
      "ActiveRecord udost\u0119pnia interfejs pozwalaj\u0105cy wyszukiwa\u0107 dane w bazie r\u00f3wnie\u017c z wykorzystaniem zwi\u0105zk\u00f3w zdefiniowanych pomi\u0119dzy\n",
      "klasami. Do definiowania tych zwi\u0105zk\u00f3w s\u0142u\u017c\u0105 polecenia `has_many`, `belongs_to`, `has_one` oraz `has_and_belongs_to_many`.\n",
      "Przyk\u0142adowo je\u015bli chcemy dowiedzie\u0107 si\u0119 kto by\u0142 autorem pierwszej ksi\u0105\u017cki wykonujemy zapytanie:\n",
      "```ruby\n",
      "book = Book.first\n",
      "puts book.title\n",
      "puts book.author\n",
      "```"
     ]
    },
    {
     "cell_type": "code",
     "collapsed": true,
     "input": [
      "book = Book.first\n",
      "puts book.title\n",
      "puts book.author.name + ' ' + book.author.surname"
     ],
     "language": "python",
     "metadata": {},
     "outputs": [
      {
       "output_type": "stream",
       "stream": "stdout",
       "text": [
        "V\u00e9gj\u00e1t\u00e9k (reg\u00e9ny)\n"
       ]
      },
      {
       "output_type": "stream",
       "stream": "stdout",
       "text": [
        "Orson Scott Card\n"
       ]
      }
     ],
     "prompt_number": 8
    },
    {
     "cell_type": "markdown",
     "metadata": {},
     "source": [
      "Niestety prezentowany wynik nie jest zbyt u\u017cyteczny. Poniewa\u017c jednak metoda `author` zwraca obiekt, mo\u017cemy na nim wywo\u0142ywa\u0107 \n",
      "metody - tak samo jak w przypadku autora za\u0142adowanego bezpo\u015brednio z wykorzystaniem metod zdefiniowanych dla klasy `Author`\n",
      "```ruby\n",
      "book = Book.first\n",
      "puts book.title\n",
      "puts \"#{book.author.name} #{book.author.surname}\"\n",
      "```"
     ]
    },
    {
     "cell_type": "code",
     "collapsed": true,
     "input": [
      "\n"
     ],
     "language": "python",
     "metadata": {},
     "outputs": [],
     "prompt_number": 19
    },
    {
     "cell_type": "markdown",
     "metadata": {},
     "source": [
      "Co wi\u0119cej, je\u015bli mamy do czynienia ze zwi\u0105zkiem jeden-do-wiele b\u0105d\u017a wiele-do-wiele, mo\u017cemy wywy\u0142ywa\u0107 wszystkie dotychczas poznane \n",
      "metody na kolekcji powi\u0105zanych obiekt\u00f3w. Istotnie u\u0142atwia to wyszukiwanie potrzebnych danych:\n",
      "```ruby\n",
      "books = Book.where(\"title like 'A%'\")\n",
      "books.each do |book|\n",
      "  puts book.title\n",
      "end\n",
      "\n",
      "author = Author.where(surname: \"To\u0142stoj\").first\n",
      "books = author.books.where(\"title like 'A%'\")\n",
      "books.each do |book|\n",
      "  puts book.title\n",
      "end\n",
      "```"
     ]
    },
    {
     "cell_type": "code",
     "collapsed": true,
     "input": [
      "author = Author.where(\"surname like 'To%'\").last\n",
      "books = author.books.where(\"title like 'A%'\")\n",
      "books.each do |book|\n",
      "  puts book.title\n",
      "  puts book.author.surname\n",
      "end"
     ],
     "language": "python",
     "metadata": {},
     "outputs": [
      {
       "output_type": "stream",
       "stream": "stdout",
       "text": [
        "Anna Karenina\n"
       ]
      },
      {
       "output_type": "stream",
       "stream": "stdout",
       "text": [
        "To\u0142stoj\n"
       ]
      },
      {
       "metadata": {},
       "output_type": "pyout",
       "prompt_number": 40,
       "text": [
        "[#<Book id: 33, title: \"Anna Karenina\", language: nil, author_id: 27, published: 1877, image_url: \"http://commons.wikimedia.org/wiki/Special:FilePath...\">]"
       ]
      }
     ],
     "prompt_number": 40
    },
    {
     "cell_type": "markdown",
     "metadata": {},
     "source": [
      "R\u00f3\u017cnica pomi\u0119dzy tymi zapytaniami polega na tym, \u017ce w pierwszym przypadku szukamy ksi\u0105\u017cki, kt\u00f3rych tytu\u0142 zaczyna si\u0119 na \"A\" \n",
      "w ca\u0142ym zbiorze ksi\u0105\u017cek, a w drugi przypadku w\u015br\u00f3d ksi\u0105\u017cek napisanych przez To\u0142stoja."
     ]
    },
    {
     "cell_type": "markdown",
     "metadata": {},
     "source": [
      "Aby umo\u017cliwi\u0107 formatowanie wynik\u00f3w zapytania, IRuby udost\u0119pnia metod\u0119 `IRuby.html`, kt\u00f3ra pozwala na wy\u015bwietlanie kodu\n",
      "HTML. Przyk\u0142adowo\n",
      "```ruby\n",
      "IRuby.html \"<h1>Test HTML-a</h1>\"\n",
      "```"
     ]
    },
    {
     "cell_type": "code",
     "collapsed": true,
     "input": [
      "kod = '<h1>Test HTML-a</h1>'\n",
      "kod += '<h2>reszta</h2>'\n",
      "IRuby.html kod"
     ],
     "language": "python",
     "metadata": {},
     "outputs": [
      {
       "html": [
        "<h1>Test HTML-a</h1><h2>reszta</h2>"
       ],
       "metadata": {},
       "output_type": "pyout",
       "prompt_number": 52,
       "text": [
        "\"<h1>Test HTML-a</h1><h2>reszta</h2>\""
       ]
      }
     ],
     "prompt_number": 52
    },
    {
     "cell_type": "markdown",
     "metadata": {},
     "source": [
      "Dzi\u0119ki temu b\u0119dziemy mogli formatowa\u0107 wyniki zapyta\u0144, a wszczeg\u00f3lno\u015bci wy\u015bwietla\u0107 obrazy przedstwiaj\u0105ce autor\u00f3w oraz ksi\u0105\u017cki. \n",
      "Nale\u017cy jednak wzi\u0105\u0107 pod uwag\u0119, \u017ce nie wszystkie ksi\u0105\u017cki oraz nie wszyscy autorzy posiadaj\u0105 odpowiadaj\u0105ce im obrazki.\n",
      "Aby wy\u015bwietli\u0107 imi\u0119, nazwisko oraz obraz pierwszego autora piszemy:\n",
      "```ruby\n",
      "author = Author.where(\"image_url is not null\").first\n",
      "IRuby.html \"<h1>#{author.name} #{author.surname}</h1><img src='#{author.image_url}'/>\"\n",
      "```"
     ]
    },
    {
     "cell_type": "code",
     "collapsed": true,
     "input": [
      "author = Author.where(\"image_url is not null\").first\n",
      "IRuby.html \"<h1>#{author.name} #{author.surname}</h1><img src='#{author.image_url}'/>\""
     ],
     "language": "python",
     "metadata": {},
     "outputs": [
      {
       "html": [
        "<h1>Orson Scott Card</h1><img src='http://commons.wikimedia.org/wiki/Special:FilePath/Orson_Scott_Card_at_BYU_Symposium_20080216_closeup.jpg?width=300'/>"
       ],
       "metadata": {},
       "output_type": "pyout",
       "prompt_number": 51,
       "text": [
        "\"<h1>Orson Scott Card</h1><img src='http://commons.wikimedia.org/wiki/Special:FilePath/Orson_Scott_Card_at_BYU_Symposium_20080216_closeup.jpg?width=300'/>\""
       ]
      }
     ],
     "prompt_number": 51
    },
    {
     "cell_type": "markdown",
     "metadata": {},
     "source": [
      "Mo\u017cemy r\u00f3wnie\u017c zdefniowa\u0107 funkcj\u0119, np. `display_author`, kt\u00f3rej zadaniem b\u0119dzie wy\u015bwietlenie autora w tej postaci. \n",
      "Jedyny problem polega na tym, \u017ce funkcja `IRuby.html` mo\u017ce by\u0107 wywo\u0142ywana tylko raz. Dlatego je\u015bli chcemy wy\u015bwietli\u0107 kilku autor\u00f3w,\n",
      "musimy po\u0142\u0105czy\u0107 odpowiadaj\u0105ce im kody HTML i wynik przekaza\u0107 do funkcji `html`\n",
      "```ruby\n",
      "def display_author(author)\n",
      "  \"<h1>#{author.name} #{author.surname}</h1><img src='#{author.image_url}'/>\"\n",
      "end\n",
      "\n",
      "author_1 = Author.where(\"image_url is not null\").first\n",
      "author_2 = Author.where(\"image_url is not null\").offset(1).first\n",
      "document = display_author(author_1)\n",
      "document += display_author(author_2)\n",
      "IRuby.html document\n",
      "```"
     ]
    },
    {
     "cell_type": "code",
     "collapsed": true,
     "input": [
      "def display_author(author)\n",
      "  \"<h1>#{author.name} #{author.surname}</h1><img src='#{author.image_url}'/>\"\n",
      "end\n",
      "\n",
      "author_1 = Author.where(\"image_url is not null\").first\n",
      "author_2 = Author.where(\"image_url is not null\").offset(1).first\n",
      "document = display_author(author_1)\n",
      "document += display_author(author_2)\n",
      "IRuby.html document"
     ],
     "language": "python",
     "metadata": {},
     "outputs": [
      {
       "html": [
        "<h1>Orson Scott Card</h1><img src='http://commons.wikimedia.org/wiki/Special:FilePath/Orson_Scott_Card_at_BYU_Symposium_20080216_closeup.jpg?width=300'/><h1>Andrzej Sapkowski</h1><img src='http://commons.wikimedia.org/wiki/Special:FilePath/Sapkowski.jpg?width=300'/>"
       ],
       "metadata": {},
       "output_type": "pyout",
       "prompt_number": 56,
       "text": [
        "\"<h1>Orson Scott Card</h1><img src='http://commons.wikimedia.org/wiki/Special:FilePath/Orson_Scott_Card_at_BYU_Symposium_20080216_closeup.jpg?width=300'/><h1>Andrzej Sapkowski</h1><img src='http://commons.wikimedia.org/wiki/Special:FilePath/Sapkowski.jpg?width=300'/>\""
       ]
      }
     ],
     "prompt_number": 56
    },
    {
     "cell_type": "heading",
     "level": 2,
     "metadata": {},
     "source": [
      "Zadania"
     ]
    },
    {
     "cell_type": "heading",
     "level": 3,
     "metadata": {},
     "source": [
      "Zadanie 1"
     ]
    },
    {
     "cell_type": "markdown",
     "metadata": {},
     "source": [
      "Wy\u015bwietl wszystkich autor\u00f3w, kt\u00f3rzy urodzili si\u0119 przed rokiem 1900."
     ]
    },
    {
     "cell_type": "code",
     "collapsed": true,
     "input": [
      "authors_XIX = Author.where(\"born < '1900-01-01'\")\n",
      "authors_XIX.each do |author|\n",
      "  puts author.name + ' ' + author.surname + ', born ' + author.born.to_s\n",
      "end"
     ],
     "language": "python",
     "metadata": {},
     "outputs": [
      {
       "output_type": "stream",
       "stream": "stdout",
       "text": [
        "Jack London, born 1876-01-12\n"
       ]
      },
      {
       "output_type": "stream",
       "stream": "stdout",
       "text": [
        "Miko\u0142aj Kopernik, born 1473-02-19\n"
       ]
      },
      {
       "output_type": "stream",
       "stream": "stdout",
       "text": [
        "Maria Franciszka Koz\u0142owska, born 1862-05-27\n"
       ]
      },
      {
       "output_type": "stream",
       "stream": "stdout",
       "text": [
        "William Szekspir, born 1564-04-23\n"
       ]
      },
      {
       "output_type": "stream",
       "stream": "stdout",
       "text": [
        "John Ronald Reuel Tolkien, born 1892-01-03\n"
       ]
      },
      {
       "output_type": "stream",
       "stream": "stdout",
       "text": [
        "Aleksander Dumas (ojciec), born 1802-07-24\n"
       ]
      },
      {
       "output_type": "stream",
       "stream": "stdout",
       "text": [
        "Tadeusz Do\u0142\u0119ga-Mostowicz, born 1898-08-10\n"
       ]
      },
      {
       "output_type": "stream",
       "stream": "stdout",
       "text": [
        "Henryk Sienkiewicz, born 1846-05-05\n"
       ]
      },
      {
       "output_type": "stream",
       "stream": "stdout",
       "text": [
        "Vladimir Nabokov, born 1899-04-22\n"
       ]
      },
      {
       "output_type": "stream",
       "stream": "stdout",
       "text": [
        "Adolf Hitler, born 1889-04-20\n"
       ]
      },
      {
       "output_type": "stream",
       "stream": "stdout",
       "text": [
        "Eliza Orzeszkowa, born 1841-06-06\n"
       ]
      },
      {
       "output_type": "stream",
       "stream": "stdout",
       "text": [
        "Benedykt Chmielowski, born 1700-03-20\n"
       ]
      },
      {
       "output_type": "stream",
       "stream": "stdout",
       "text": [
        "Aldous Huxley, born 1894-07-26\n"
       ]
      },
      {
       "output_type": "stream",
       "stream": "stdout",
       "text": [
        "Honor\u00e9 de Balzac, born 1799-05-20\n"
       ]
      },
      {
       "output_type": "stream",
       "stream": "stdout",
       "text": [
        "Franz Kafka, born 1883-07-03\n"
       ]
      },
      {
       "output_type": "stream",
       "stream": "stdout",
       "text": [
        "Howard Phillips Lovecraft, born 1890-08-20\n"
       ]
      },
      {
       "output_type": "stream",
       "stream": "stdout",
       "text": [
        "Lew To\u0142stoj, born 1828-09-09\n"
       ]
      },
      {
       "output_type": "stream",
       "stream": "stdout",
       "text": [
        "Ilja Ilf, born 1897-10-15\n"
       ]
      },
      {
       "output_type": "stream",
       "stream": "stdout",
       "text": [
        "Gabriela Zapolska, born 1857-03-30\n"
       ]
      },
      {
       "output_type": "stream",
       "stream": "stdout",
       "text": [
        "Clive Staples Lewis, born 1898-11-29\n"
       ]
      },
      {
       "output_type": "stream",
       "stream": "stdout",
       "text": [
        "Adam Mickiewicz, born 1798-12-24\n"
       ]
      },
      {
       "output_type": "stream",
       "stream": "stdout",
       "text": [
        "Iwan Turgieniew, born 1818-11-09\n"
       ]
      },
      {
       "output_type": "stream",
       "stream": "stdout",
       "text": [
        "Lucy Maud Montgomery, born 1874-11-30\n"
       ]
      },
      {
       "output_type": "stream",
       "stream": "stdout",
       "text": [
        "Aleksander Majkowski, born 1876-07-17\n"
       ]
      },
      {
       "metadata": {},
       "output_type": "pyout",
       "prompt_number": 62,
       "text": [
        "[#<Author id: 3, name: \"Jack\", surname: \"London\", born: \"1876-01-12\", died: \"1916-11-22\", image_url: \"http://commons.wikimedia.org/wiki/Special:FilePath...\">, #<Author id: 7, name: \"Miko\u0142aj\", surname: \"Kopernik\", born: \"1473-02-19\", died: \"1543-05-24\", image_url: \"http://commons.wikimedia.org/wiki/Special:FilePath...\">, #<Author id: 8, name: \"Maria Franciszka\", surname: \"Koz\u0142owska\", born: \"1862-05-27\", died: nil, image_url: \"http://commons.wikimedia.org/wiki/Special:FilePath...\">, #<Author id: 10, name: \"William\", surname: \"Szekspir\", born: \"1564-04-23\", died: \"1616-05-03\", image_url: \"http://commons.wikimedia.org/wiki/Special:FilePath...\">, #<Author id: 12, name: \"John Ronald Reuel\", surname: \"Tolkien\", born: \"1892-01-03\", died: \"1973-09-02\", image_url: \"http://commons.wikimedia.org/wiki/Special:FilePath...\">, #<Author id: 13, name: \"Aleksander Dumas\", surname: \"(ojciec)\", born: \"1802-07-24\", died: \"1870-12-05\", image_url: \"http://commons.wikimedia.org/wiki/Special:FilePath...\">, #<Author id: 14, name: \"Tadeusz\", surname: \"Do\u0142\u0119ga-Mostowicz\", born: \"1898-08-10\", died: \"1939-09-20\", image_url: \"http://commons.wikimedia.org/wiki/Special:FilePath...\">, #<Author id: 15, name: \"Henryk\", surname: \"Sienkiewicz\", born: \"1846-05-05\", died: \"1916-11-15\", image_url: \"http://commons.wikimedia.org/wiki/Special:FilePath...\">, #<Author id: 16, name: \"Vladimir\", surname: \"Nabokov\", born: \"1899-04-22\", died: \"1977-07-02\", image_url: \"http://commons.wikimedia.org/wiki/Special:FilePath...\">, #<Author id: 17, name: \"Adolf\", surname: \"Hitler\", born: \"1889-04-20\", died: \"1945-04-30\", image_url: \"http://commons.wikimedia.org/wiki/Special:FilePath...\">, #<Author id: 18, name: \"Eliza\", surname: \"Orzeszkowa\", born: \"1841-06-06\", died: \"1910-05-18\", image_url: \"http://commons.wikimedia.org/wiki/Special:FilePath...\">, #<Author id: 20, name: \"Benedykt\", surname: \"Chmielowski\", born: \"1700-03-20\", died: \"1763-04-07\", image_url: \"http://commons.wikimedia.org/wiki/Special:FilePath...\">, #<Author id: 21, name: \"Aldous\", surname: \"Huxley\", born: \"1894-07-26\", died: \"1963-11-22\", image_url: \"http://commons.wikimedia.org/wiki/Special:FilePath...\">, #<Author id: 22, name: \"Honor\u00e9 de\", surname: \"Balzac\", born: \"1799-05-20\", died: \"1850-08-18\", image_url: \"http://commons.wikimedia.org/wiki/Special:FilePath...\">, #<Author id: 23, name: \"Franz\", surname: \"Kafka\", born: \"1883-07-03\", died: \"1924-06-03\", image_url: \"http://commons.wikimedia.org/wiki/Special:FilePath...\">, #<Author id: 25, name: \"Howard Phillips\", surname: \"Lovecraft\", born: \"1890-08-20\", died: \"1937-03-15\", image_url: \"http://commons.wikimedia.org/wiki/Special:FilePath...\">, #<Author id: 27, name: \"Lew\", surname: \"To\u0142stoj\", born: \"1828-09-09\", died: \"1910-11-20\", image_url: \"http://commons.wikimedia.org/wiki/Special:FilePath...\">, #<Author id: 32, name: \"Ilja\", surname: \"Ilf\", born: \"1897-10-15\", died: \"1937-04-13\", image_url: \"http://commons.wikimedia.org/wiki/Special:FilePath...\">, #<Author id: 34, name: \"Gabriela\", surname: \"Zapolska\", born: \"1857-03-30\", died: \"1921-12-17\", image_url: \"http://commons.wikimedia.org/wiki/Special:FilePath...\">, #<Author id: 37, name: \"Clive Staples\", surname: \"Lewis\", born: \"1898-11-29\", died: \"1963-11-22\", image_url: \"http://commons.wikimedia.org/wiki/Special:FilePath...\">, #<Author id: 38, name: \"Adam\", surname: \"Mickiewicz\", born: \"1798-12-24\", died: \"1855-11-26\", image_url: \"http://commons.wikimedia.org/wiki/Special:FilePath...\">, #<Author id: 41, name: \"Iwan\", surname: \"Turgieniew\", born: \"1818-11-09\", died: \"1883-09-03\", image_url: \"http://commons.wikimedia.org/wiki/Special:FilePath...\">, #<Author id: 44, name: \"Lucy Maud\", surname: \"Montgomery\", born: \"1874-11-30\", died: \"1942-04-24\", image_url: \"http://commons.wikimedia.org/wiki/Special:FilePath...\">, #<Author id: 50, name: \"Aleksander\", surname: \"Majkowski\", born: \"1876-07-17\", died: \"1938-02-10\", image_url: \"http://commons.wikimedia.org/wiki/Special:FilePath...\">]"
       ]
      }
     ],
     "prompt_number": 62
    },
    {
     "cell_type": "heading",
     "level": 3,
     "metadata": {},
     "source": [
      "Zadanie 2"
     ]
    },
    {
     "cell_type": "markdown",
     "metadata": {},
     "source": [
      "Zmodyfikuj funkcj\u0119 wy\u015bwietlaj\u0105c\u0105 autor\u00f3w tak aby obejmowa\u0142a ich dat\u0119 urodzin i \u015bmierci w formacie `dzie\u0144.miesi\u0105c.rok`. Nast\u0119pnie wy\u015bwietl wszystkich autor\u00f3w,\n",
      "kt\u00f3rzy zmarli w XX wieku."
     ]
    },
    {
     "cell_type": "code",
     "collapsed": true,
     "input": [
      "def display_author(author)\n",
      "  \"<h1>#{author.name} #{author.surname}</h1><img src='#{author.image_url}'/>\n",
      "    <p>Ur. #{author.born.strftime('%d.%m.%Y') unless author.born.nil?}</p>\n",
      "    <p>Zm. #{author.died.strftime('%d.%m.%Y') unless author.died.nil?}</p>\"\n",
      "end\n",
      "kod = ' '\n",
      "authors_dXX = Author.where(\"died BETWEEN '1901-01-01' AND '2000-12-31'\")\n",
      "authors_dXX.each do |author|\n",
      "  kod += display_author(author)\n",
      "end\n",
      "IRuby.html kod"
     ],
     "language": "python",
     "metadata": {},
     "outputs": [
      {
       "html": [
        " <h1>Jack London</h1><img src='http://commons.wikimedia.org/wiki/Special:FilePath/JackLondon02.jpeg?width=300'/>\n",
        "    <p>Ur. 12.01.1876</p>\n",
        "    <p>Zm. 22.11.1916</p><h1>Antoni Go\u0142ubiew</h1><img src='http://commons.wikimedia.org/wiki/Special:FilePath/Antoni_Golubiew.jpg?width=300'/>\n",
        "    <p>Ur. 25.02.1907</p>\n",
        "    <p>Zm. 27.06.1979</p><h1>George Orwell</h1><img src='http://commons.wikimedia.org/wiki/Special:FilePath/GeoreOrwell.jpg?width=300'/>\n",
        "    <p>Ur. 25.06.1903</p>\n",
        "    <p>Zm. 21.01.1950</p><h1>John Ronald Reuel Tolkien</h1><img src='http://commons.wikimedia.org/wiki/Special:FilePath/Tolkien_1916.jpg?width=300'/>\n",
        "    <p>Ur. 03.01.1892</p>\n",
        "    <p>Zm. 02.09.1973</p><h1>Tadeusz Do\u0142\u0119ga-Mostowicz</h1><img src='http://commons.wikimedia.org/wiki/Special:FilePath/Tadeusz_Dolega-Mostowicz.jpg?width=300'/>\n",
        "    <p>Ur. 10.08.1898</p>\n",
        "    <p>Zm. 20.09.1939</p><h1>Henryk Sienkiewicz</h1><img src='http://commons.wikimedia.org/wiki/Special:FilePath/Henryk_Sienkiewicz.PNG?width=300'/>\n",
        "    <p>Ur. 05.05.1846</p>\n",
        "    <p>Zm. 15.11.1916</p><h1>Vladimir Nabokov</h1><img src='http://commons.wikimedia.org/wiki/Special:FilePath/Monument_Nabokov_Montreux_23.12.2006.jpg?width=300'/>\n",
        "    <p>Ur. 22.04.1899</p>\n",
        "    <p>Zm. 02.07.1977</p><h1>Adolf Hitler</h1><img src='http://commons.wikimedia.org/wiki/Special:FilePath/Hitler_portrait_crop.jpg?width=300'/>\n",
        "    <p>Ur. 20.04.1889</p>\n",
        "    <p>Zm. 30.04.1945</p><h1>Eliza Orzeszkowa</h1><img src='http://commons.wikimedia.org/wiki/Special:FilePath/Eliza_Orzeszkowa.PNG?width=300'/>\n",
        "    <p>Ur. 06.06.1841</p>\n",
        "    <p>Zm. 18.05.1910</p><h1>Aldous Huxley</h1><img src='http://commons.wikimedia.org/wiki/Special:FilePath/Aldous_Huxley.JPG?width=300'/>\n",
        "    <p>Ur. 26.07.1894</p>\n",
        "    <p>Zm. 22.11.1963</p><h1>Franz Kafka</h1><img src='http://commons.wikimedia.org/wiki/Special:FilePath/Kafka1906.jpg?width=300'/>\n",
        "    <p>Ur. 03.07.1883</p>\n",
        "    <p>Zm. 03.06.1924</p><h1>Howard Phillips Lovecraft</h1><img src='http://commons.wikimedia.org/wiki/Special:FilePath/Howard_Phillips_Lovecraft_in_1915.jpg?width=300'/>\n",
        "    <p>Ur. 20.08.1890</p>\n",
        "    <p>Zm. 15.03.1937</p><h1>Karol Olgierd Borchardt</h1><img src='http://commons.wikimedia.org/wiki/Special:FilePath/Karol_Olgierd_Borchardt's_house_in_Gdynia.jpg?width=300'/>\n",
        "    <p>Ur. 25.03.1905</p>\n",
        "    <p>Zm. 20.05.1986</p><h1>Lew To\u0142stoj</h1><img src='http://commons.wikimedia.org/wiki/Special:FilePath/Ilya_Efimovich_Repin_(1844-1930)_-_Portrait_of_Leo_Tolstoy_(1887).jpg?width=300'/>\n",
        "    <p>Ur. 09.09.1828</p>\n",
        "    <p>Zm. 20.11.1910</p><h1>Janusz Zajdel</h1><img src='http://commons.wikimedia.org/wiki/Special:FilePath/Janusz_A_Zajdel.jpg?width=300'/>\n",
        "    <p>Ur. 15.08.1938</p>\n",
        "    <p>Zm. 19.07.1985</p><h1>Isaac Asimov</h1><img src='http://commons.wikimedia.org/wiki/Special:FilePath/Isaac.Asimov01.jpg?width=300'/>\n",
        "    <p>Ur. 04.10.1919</p>\n",
        "    <p>Zm. 06.04.1992</p><h1>Ilja Ilf</h1><img src='http://commons.wikimedia.org/wiki/Special:FilePath/Ilya_Ilf.jpg?width=300'/>\n",
        "    <p>Ur. 15.10.1897</p>\n",
        "    <p>Zm. 13.04.1937</p><h1>Jewgienij Pietrow (pisarz)</h1><img src='http://commons.wikimedia.org/wiki/Special:FilePath/Yevgeny_Petrov.jpg?width=300'/>\n",
        "    <p>Ur. 13.12.1903</p>\n",
        "    <p>Zm. 02.07.1942</p><h1>Gabriela Zapolska</h1><img src='http://commons.wikimedia.org/wiki/Special:FilePath/Gabriela_Zapolska.PNG?width=300'/>\n",
        "    <p>Ur. 30.03.1857</p>\n",
        "    <p>Zm. 17.12.1921</p><h1>Clive Staples Lewis</h1><img src='http://commons.wikimedia.org/wiki/Special:FilePath/Statue_of_C.S._Lewis,_Belfast.jpg?width=300'/>\n",
        "    <p>Ur. 29.11.1898</p>\n",
        "    <p>Zm. 22.11.1963</p><h1>Lucy Maud Montgomery</h1><img src='http://commons.wikimedia.org/wiki/Special:FilePath/Lucy_Maud_Montgomery.JPG?width=300'/>\n",
        "    <p>Ur. 30.11.1874</p>\n",
        "    <p>Zm. 24.04.1942</p><h1>Alfred Szklarski</h1><img src='http://commons.wikimedia.org/wiki/Special:FilePath/Katowice_-_pomnik_Alfred_Szklarski.JPG?width=300'/>\n",
        "    <p>Ur. 21.01.1912</p>\n",
        "    <p>Zm. 09.04.1992</p><h1>Aleksander Majkowski</h1><img src='http://commons.wikimedia.org/wiki/Special:FilePath/POL_Polonia_Restituta_Oficerski_BAR.svg?width=300'/>\n",
        "    <p>Ur. 17.07.1876</p>\n",
        "    <p>Zm. 10.02.1938</p><h1>Ian Fleming</h1><img src='http://commons.wikimedia.org/wiki/Special:FilePath/For_Your_Eyes_Only.jpg?width=300'/>\n",
        "    <p>Ur. 28.05.1908</p>\n",
        "    <p>Zm. 12.08.1964</p>"
       ],
       "metadata": {},
       "output_type": "pyout",
       "prompt_number": 69,
       "text": [
        "\" <h1>Jack London</h1><img src='http://commons.wikimedia.org/wiki/Special:FilePath/JackLondon02.jpeg?width=300'/>\\n    <p>Ur. 12.01.1876</p>\\n    <p>Zm. 22.11.1916</p><h1>Antoni Go\u0142ubiew</h1><img src='http://commons.wikimedia.org/wiki/Special:FilePath/Antoni_Golubiew.jpg?width=300'/>\\n    <p>Ur. 25.02.1907</p>\\n    <p>Zm. 27.06.1979</p><h1>George Orwell</h1><img src='http://commons.wikimedia.org/wiki/Special:FilePath/GeoreOrwell.jpg?width=300'/>\\n    <p>Ur. 25.06.1903</p>\\n    <p>Zm. 21.01.1950</p><h1>John Ronald Reuel Tolkien</h1><img src='http://commons.wikimedia.org/wiki/Special:FilePath/Tolkien_1916.jpg?width=300'/>\\n    <p>Ur. 03.01.1892</p>\\n    <p>Zm. 02.09.1973</p><h1>Tadeusz Do\u0142\u0119ga-Mostowicz</h1><img src='http://commons.wikimedia.org/wiki/Special:FilePath/Tadeusz_Dolega-Mostowicz.jpg?width=300'/>\\n    <p>Ur. 10.08.1898</p>\\n    <p>Zm. 20.09.1939</p><h1>Henryk Sienkiewicz</h1><img src='http://commons.wikimedia.org/wiki/Special:FilePath/Henryk_Sienkiewicz.PNG?width=300'/>\\n    <p>Ur. 05.05.1846</p>\\n    <p>Zm. 15.11.1916</p><h1>Vladimir Nabokov</h1><img src='http://commons.wikimedia.org/wiki/Special:FilePath/Monument_Nabokov_Montreux_23.12.2006.jpg?width=300'/>\\n    <p>Ur. 22.04.1899</p>\\n    <p>Zm. 02.07.1977</p><h1>Adolf Hitler</h1><img src='http://commons.wikimedia.org/wiki/Special:FilePath/Hitler_portrait_crop.jpg?width=300'/>\\n    <p>Ur. 20.04.1889</p>\\n    <p>Zm. 30.04.1945</p><h1>Eliza Orzeszkowa</h1><img src='http://commons.wikimedia.org/wiki/Special:FilePath/Eliza_Orzeszkowa.PNG?width=300'/>\\n    <p>Ur. 06.06.1841</p>\\n    <p>Zm. 18.05.1910</p><h1>Aldous Huxley</h1><img src='http://commons.wikimedia.org/wiki/Special:FilePath/Aldous_Huxley.JPG?width=300'/>\\n    <p>Ur. 26.07.1894</p>\\n    <p>Zm. 22.11.1963</p><h1>Franz Kafka</h1><img src='http://commons.wikimedia.org/wiki/Special:FilePath/Kafka1906.jpg?width=300'/>\\n    <p>Ur. 03.07.1883</p>\\n    <p>Zm. 03.06.1924</p><h1>Howard Phillips Lovecraft</h1><img src='http://commons.wikimedia.org/wiki/Special:FilePath/Howard_Phillips_Lovecraft_in_1915.jpg?width=300'/>\\n    <p>Ur. 20.08.1890</p>\\n    <p>Zm. 15.03.1937</p><h1>Karol Olgierd Borchardt</h1><img src='http://commons.wikimedia.org/wiki/Special:FilePath/Karol_Olgierd_Borchardt's_house_in_Gdynia.jpg?width=300'/>\\n    <p>Ur. 25.03.1905</p>\\n    <p>Zm. 20.05.1986</p><h1>Lew To\u0142stoj</h1><img src='http://commons.wikimedia.org/wiki/Special:FilePath/Ilya_Efimovich_Repin_(1844-1930)_-_Portrait_of_Leo_Tolstoy_(1887).jpg?width=300'/>\\n    <p>Ur. 09.09.1828</p>\\n    <p>Zm. 20.11.1910</p><h1>Janusz Zajdel</h1><img src='http://commons.wikimedia.org/wiki/Special:FilePath/Janusz_A_Zajdel.jpg?width=300'/>\\n    <p>Ur. 15.08.1938</p>\\n    <p>Zm. 19.07.1985</p><h1>Isaac Asimov</h1><img src='http://commons.wikimedia.org/wiki/Special:FilePath/Isaac.Asimov01.jpg?width=300'/>\\n    <p>Ur. 04.10.1919</p>\\n    <p>Zm. 06.04.1992</p><h1>Ilja Ilf</h1><img src='http://commons.wikimedia.org/wiki/Special:FilePath/Ilya_Ilf.jpg?width=300'/>\\n    <p>Ur. 15.10.1897</p>\\n    <p>Zm. 13.04.1937</p><h1>Jewgienij Pietrow (pisarz)</h1><img src='http://commons.wikimedia.org/wiki/Special:FilePath/Yevgeny_Petrov.jpg?width=300'/>\\n    <p>Ur. 13.12.1903</p>\\n    <p>Zm. 02.07.1942</p><h1>Gabriela Zapolska</h1><img src='http://commons.wikimedia.org/wiki/Special:FilePath/Gabriela_Zapolska.PNG?width=300'/>\\n    <p>Ur. 30.03.1857</p>\\n    <p>Zm. 17.12.1921</p><h1>Clive Staples Lewis</h1><img src='http://commons.wikimedia.org/wiki/Special:FilePath/Statue_of_C.S._Lewis,_Belfast.jpg?width=300'/>\\n    <p>Ur. 29.11.1898</p>\\n    <p>Zm. 22.11.1963</p><h1>Lucy Maud Montgomery</h1><img src='http://commons.wikimedia.org/wiki/Special:FilePath/Lucy_Maud_Montgomery.JPG?width=300'/>\\n    <p>Ur. 30.11.1874</p>\\n    <p>Zm. 24.04.1942</p><h1>Alfred Szklarski</h1><img src='http://commons.wikimedia.org/wiki/Special:FilePath/Katowice_-_pomnik_Alfred_Szklarski.JPG?width=300'/>\\n    <p>Ur. 21.01.1912</p>\\n    <p>Zm. 09.04.1992</p><h1>Aleksander Majkowski</h1><img src='http://commons.wikimedia.org/wiki/Special:FilePath/POL_Polonia_Restituta_Oficerski_BAR.svg?width=300'/>\\n    <p>Ur. 17.07.1876</p>\\n    <p>Zm. 10.02.1938</p><h1>Ian Fleming</h1><img src='http://commons.wikimedia.org/wiki/Special:FilePath/For_Your_Eyes_Only.jpg?width=300'/>\\n    <p>Ur. 28.05.1908</p>\\n    <p>Zm. 12.08.1964</p>\""
       ]
      }
     ],
     "prompt_number": 69
    },
    {
     "cell_type": "heading",
     "level": 3,
     "metadata": {},
     "source": [
      "Zadanie 3"
     ]
    },
    {
     "cell_type": "markdown",
     "metadata": {},
     "source": [
      "Wy\u015bwietl 5 najm\u0142odszych autor\u00f3w, kt\u00f3rzy posiadaj\u0105 przypisane zdj\u0119cie."
     ]
    },
    {
     "cell_type": "code",
     "collapsed": false,
     "input": [
      "def display_author(author)\n",
      "  \"<h1>#{author.name} #{author.surname}</h1><img src='#{author.image_url}'/>\n",
      "    <p>Ur. #{author.born.strftime('%d.%m.%Y') unless author.born.nil?}</p>\n",
      "    <p>Zm. #{author.died.strftime('%d.%m.%Y') unless author.died.nil?}</p>\"\n",
      "end\n",
      "\n",
      "kod = ' '\n",
      "authors_youngest = Author.where('born IS NOT NULL').where('image_url IS NOT NULL').order('born DESC').limit(5)\n",
      "authors_youngest.each do |author|\n",
      "  kod += display_author(author)\n",
      "end\n",
      "IRuby.html kod"
     ],
     "language": "python",
     "metadata": {},
     "outputs": [
      {
       "html": [
        " <h1>Andrzej Pilipiuk</h1><img src='http://commons.wikimedia.org/wiki/Special:FilePath/Andrzej_Pilipiuk-Polcon2006.jpg?width=300'/>\n",
        "    <p>Ur. 20.03.1974</p>\n",
        "    <p>Zm. </p><h1>J. K. Rowling</h1><img src='http://commons.wikimedia.org/wiki/Special:FilePath/J._K._Rowling_2010.jpg?width=300'/>\n",
        "    <p>Ur. 31.07.1965</p>\n",
        "    <p>Zm. </p><h1>Rafa\u0142 A. Ziemkiewicz</h1><img src='http://commons.wikimedia.org/wiki/Special:FilePath/Rafa\u0142_Ziemkiewicz.jpg?width=300'/>\n",
        "    <p>Ur. 13.09.1964</p>\n",
        "    <p>Zm. </p><h1>Boris Akunin</h1><img src='http://commons.wikimedia.org/wiki/Special:FilePath/Boris_Akunin_2012.jpg?width=300'/>\n",
        "    <p>Ur. 20.05.1956</p>\n",
        "    <p>Zm. </p><h1>Orson Scott Card</h1><img src='http://commons.wikimedia.org/wiki/Special:FilePath/Orson_Scott_Card_at_BYU_Symposium_20080216_closeup.jpg?width=300'/>\n",
        "    <p>Ur. 24.08.1951</p>\n",
        "    <p>Zm. </p>"
       ],
       "metadata": {},
       "output_type": "pyout",
       "prompt_number": 79,
       "text": [
        "\" <h1>Andrzej Pilipiuk</h1><img src='http://commons.wikimedia.org/wiki/Special:FilePath/Andrzej_Pilipiuk-Polcon2006.jpg?width=300'/>\\n    <p>Ur. 20.03.1974</p>\\n    <p>Zm. </p><h1>J. K. Rowling</h1><img src='http://commons.wikimedia.org/wiki/Special:FilePath/J._K._Rowling_2010.jpg?width=300'/>\\n    <p>Ur. 31.07.1965</p>\\n    <p>Zm. </p><h1>Rafa\u0142 A. Ziemkiewicz</h1><img src='http://commons.wikimedia.org/wiki/Special:FilePath/Rafa\u0142_Ziemkiewicz.jpg?width=300'/>\\n    <p>Ur. 13.09.1964</p>\\n    <p>Zm. </p><h1>Boris Akunin</h1><img src='http://commons.wikimedia.org/wiki/Special:FilePath/Boris_Akunin_2012.jpg?width=300'/>\\n    <p>Ur. 20.05.1956</p>\\n    <p>Zm. </p><h1>Orson Scott Card</h1><img src='http://commons.wikimedia.org/wiki/Special:FilePath/Orson_Scott_Card_at_BYU_Symposium_20080216_closeup.jpg?width=300'/>\\n    <p>Ur. 24.08.1951</p>\\n    <p>Zm. </p>\""
       ]
      }
     ],
     "prompt_number": 79
    },
    {
     "cell_type": "markdown",
     "metadata": {},
     "source": []
    },
    {
     "cell_type": "heading",
     "level": 3,
     "metadata": {},
     "source": [
      "Zadanie 4"
     ]
    },
    {
     "cell_type": "markdown",
     "metadata": {},
     "source": [
      "Zdefiniuj funkcj\u0119 `display_book`, kt\u00f3ra b\u0119dzie zwraca\u0142a fragment kodu HTML obejmuj\u0105cy tytu\u0142 ksi\u0105\u017cki, rok jej wydania oraz\n",
      "przypisany obrazek.\n",
      "Wy\u015bwietl najwcze\u015bniej wydan\u0105 ksi\u0105\u017ck\u0119."
     ]
    },
    {
     "cell_type": "code",
     "collapsed": true,
     "input": [
      "def display_book(book)\n",
      "  \"<h1>#{book.title}</h1>\n",
      "    <p>Wyd. #{book.published}</p>\n",
      "    <img src='#{book.image_url}'/>\"\n",
      "end\n",
      "\n",
      "book_earliest = Book.where(\"published > 0\").order(:published).first\n",
      "kod = display_book(book_earliest)\n",
      "IRuby.html kod"
     ],
     "language": "python",
     "metadata": {},
     "outputs": [
      {
       "html": [
        "<h1>De revolutionibus orbium coelestium</h1>\n",
        "    <p>Wyd. 1543</p>\n",
        "    <img src=''/>"
       ],
       "metadata": {},
       "output_type": "pyout",
       "prompt_number": 93,
       "text": [
        "\"<h1>De revolutionibus orbium coelestium</h1>\\n    <p>Wyd. 1543</p>\\n    <img src=''/>\""
       ]
      }
     ],
     "prompt_number": 93
    },
    {
     "cell_type": "heading",
     "level": 3,
     "metadata": {},
     "source": [
      "Zadanie 5"
     ]
    },
    {
     "cell_type": "markdown",
     "metadata": {},
     "source": [
      "Wy\u015bwietl wszystkie ksi\u0105\u017cki, kt\u00f3re nie maj\u0105 przypisanego roku wydania."
     ]
    },
    {
     "cell_type": "code",
     "collapsed": true,
     "input": [
      "def display_book(book)\n",
      "  \"<h1>#{book.title}</h1>\n",
      "    <p>Wyd. #{book.published}</p>\n",
      "    <img src='#{book.image_url}'/>\"\n",
      "end\n",
      "\n",
      "books_noyear = Book.where(\"published is null\")\n",
      "kod = ' '\n",
      "books_noyear.each do |book|\n",
      "  kod += display_book(book)\n",
      "end\n",
      "IRuby.html kod"
     ],
     "language": "python",
     "metadata": {},
     "outputs": [
      {
       "html": [
        " <h1>V\u00e9gj\u00e1t\u00e9k (reg\u00e9ny)</h1>\n",
        "    <p>Wyd. </p>\n",
        "    <img src=''/><h1>Hamlet</h1>\n",
        "    <p>Wyd. </p>\n",
        "    <img src='http://commons.wikimedia.org/wiki/Special:FilePath/Hamlet_quarto_3rd.jpg?width=300'/>"
       ],
       "metadata": {},
       "output_type": "pyout",
       "prompt_number": 94,
       "text": [
        "\" <h1>V\u00e9gj\u00e1t\u00e9k (reg\u00e9ny)</h1>\\n    <p>Wyd. </p>\\n    <img src=''/><h1>Hamlet</h1>\\n    <p>Wyd. </p>\\n    <img src='http://commons.wikimedia.org/wiki/Special:FilePath/Hamlet_quarto_3rd.jpg?width=300'/>\""
       ]
      }
     ],
     "prompt_number": 94
    },
    {
     "cell_type": "heading",
     "level": 3,
     "metadata": {},
     "source": [
      "Zadanie 6"
     ]
    },
    {
     "cell_type": "markdown",
     "metadata": {},
     "source": [
      "Zmodyfikuj funkcj\u0119 `display_author` tak, aby wy\u015bwietla\u0142a r\u00f3wnie\u017c wszystkie ksi\u0105\u017cki napisane przez autora. U\u017cyj znacznika `<ul>`.\n",
      "Korzystaj\u0105c z tej funkcji wy\u015bwietl opis Stanis\u0142awa Lema."
     ]
    },
    {
     "cell_type": "code",
     "collapsed": false,
     "input": [
      "book = Book.first\n",
      "puts book.author"
     ],
     "language": "python",
     "metadata": {},
     "outputs": [
      {
       "output_type": "stream",
       "stream": "stdout",
       "text": [
        "#<Author:0x000000030f5f70>\n"
       ]
      }
     ],
     "prompt_number": 124
    },
    {
     "cell_type": "code",
     "collapsed": true,
     "input": [
      "def display_author(author)\n",
      "  kod = \"<h1>#{author.name} #{author.surname}</h1><img src='#{author.image_url}'/>\"\n",
      "  kod += \"<p>Ur. #{author.born.strftime('%d.%m.%Y') unless author.born.nil?}</p>\"\n",
      "  kod += \"<p>Zm. #{author.died.strftime('%d.%m.%Y') unless author.died.nil?}</p>\"\n",
      "  kod += \"<ul><b>Ksi\u0105\u017cki</b>\"\n",
      "  author.books.order(:published).each do |book|\n",
      "    kod += \"<li>#{book.published.to_s + ': '}#{book.title}</li>\"\n",
      "  end\n",
      "  kod += \"</ul>\"\n",
      "end\n",
      "\n",
      "author = Author.where(\"surname like 'Lem'\").first\n",
      "kod = display_author(author)\n",
      "IRuby.html kod"
     ],
     "language": "python",
     "metadata": {},
     "outputs": [
      {
       "html": [
        "<h1>Stanis\u0142aw Lem</h1><img src='http://commons.wikimedia.org/wiki/Special:FilePath/Stanislaw_Lem_2.jpg?width=300'/><p>Ur. 12.09.1921</p><p>Zm. 27.03.2006</p><ul><b>Ksi\u0105\u017cki</b><li>1954: Sezam i inne opowiadania</li><li>1959: Inwazja z Aldebarana (zbi\u00f3r opowiada\u0144)</li><li>1961: Solaris (powie\u015b\u0107)</li><li>1961: Ksi\u0119ga robot\u00f3w</li><li>1961: Pami\u0119tnik znaleziony w wannie</li><li>1963: Noc ksi\u0119\u017cycowa</li><li>1964: Bajki robot\u00f3w</li><li>1964: Niezwyci\u0119\u017cony i inne opowiadania</li><li>1964: Summa technologiae</li><li>1965: Polowanie (zbi\u00f3r opowiada\u0144)</li><li>1968: G\u0142os Pana</li><li>1971: Bezsenno\u015b\u0107 (zbi\u00f3r opowiada\u0144)</li><li>1976: Katar (powie\u015b\u0107)</li><li>1976: Maska (zbi\u00f3r dzie\u0142)</li><li>1979: Powt\u00f3rka (zbi\u00f3r dzie\u0142)</li><li>1982: Wizja lokalna (powie\u015b\u0107)</li><li>1993: Po\u017cytek ze smoka</li><li>2006: Rasa drapie\u017cc\u00f3w. Teksty ostatnie</li></ul>"
       ],
       "metadata": {},
       "output_type": "pyout",
       "prompt_number": 130,
       "text": [
        "\"<h1>Stanis\u0142aw Lem</h1><img src='http://commons.wikimedia.org/wiki/Special:FilePath/Stanislaw_Lem_2.jpg?width=300'/><p>Ur. 12.09.1921</p><p>Zm. 27.03.2006</p><ul><b>Ksi\u0105\u017cki</b><li>1954: Sezam i inne opowiadania</li><li>1959: Inwazja z Aldebarana (zbi\u00f3r opowiada\u0144)</li><li>1961: Solaris (powie\u015b\u0107)</li><li>1961: Ksi\u0119ga robot\u00f3w</li><li>1961: Pami\u0119tnik znaleziony w wannie</li><li>1963: Noc ksi\u0119\u017cycowa</li><li>1964: Bajki robot\u00f3w</li><li>1964: Niezwyci\u0119\u017cony i inne opowiadania</li><li>1964: Summa technologiae</li><li>1965: Polowanie (zbi\u00f3r opowiada\u0144)</li><li>1968: G\u0142os Pana</li><li>1971: Bezsenno\u015b\u0107 (zbi\u00f3r opowiada\u0144)</li><li>1976: Katar (powie\u015b\u0107)</li><li>1976: Maska (zbi\u00f3r dzie\u0142)</li><li>1979: Powt\u00f3rka (zbi\u00f3r dzie\u0142)</li><li>1982: Wizja lokalna (powie\u015b\u0107)</li><li>1993: Po\u017cytek ze smoka</li><li>2006: Rasa drapie\u017cc\u00f3w. Teksty ostatnie</li></ul>\""
       ]
      }
     ],
     "prompt_number": 130
    },
    {
     "cell_type": "heading",
     "level": 3,
     "metadata": {},
     "source": [
      "Zadanie 7"
     ]
    },
    {
     "cell_type": "markdown",
     "metadata": {},
     "source": [
      "W\u015br\u00f3d ksi\u0105\u017cek napisanych przez Lema wy\u015bwietl wszystkie, kt\u00f3re zawieraja w tytule s\u0142owo \"zbi\u00f3r\"."
     ]
    },
    {
     "cell_type": "code",
     "collapsed": true,
     "input": [
      "author = Author.where(\"surname like 'Lem'\").first\n",
      "kod = \"<ul><b>Ksi\u0105\u017cki</b>\"\n",
      "author.books.where(\"title like '%zbi\u00f3r%'\").order(:published).each do |book|\n",
      "  kod += \"<li>#{book.published.to_s + ': '}#{book.title}</li>\"\n",
      "end\n",
      "kod += \"</ul>\"\n",
      "IRuby.html kod"
     ],
     "language": "python",
     "metadata": {},
     "outputs": [
      {
       "html": [
        "<ul><b>Ksi\u0105\u017cki</b><li>1959: Inwazja z Aldebarana (zbi\u00f3r opowiada\u0144)</li><li>1965: Polowanie (zbi\u00f3r opowiada\u0144)</li><li>1971: Bezsenno\u015b\u0107 (zbi\u00f3r opowiada\u0144)</li><li>1976: Maska (zbi\u00f3r dzie\u0142)</li><li>1979: Powt\u00f3rka (zbi\u00f3r dzie\u0142)</li></ul>"
       ],
       "metadata": {},
       "output_type": "pyout",
       "prompt_number": 136,
       "text": [
        "\"<ul><b>Ksi\u0105\u017cki</b><li>1959: Inwazja z Aldebarana (zbi\u00f3r opowiada\u0144)</li><li>1965: Polowanie (zbi\u00f3r opowiada\u0144)</li><li>1971: Bezsenno\u015b\u0107 (zbi\u00f3r opowiada\u0144)</li><li>1976: Maska (zbi\u00f3r dzie\u0142)</li><li>1979: Powt\u00f3rka (zbi\u00f3r dzie\u0142)</li></ul>\""
       ]
      }
     ],
     "prompt_number": 136
    },
    {
     "cell_type": "heading",
     "level": 3,
     "metadata": {},
     "source": [
      "Zadanie 8"
     ]
    },
    {
     "cell_type": "markdown",
     "metadata": {},
     "source": [
      "W\u015br\u00f3d ksi\u0105\u017cek napisanych przez Lema wy\u015bwietl te, kt\u00f3re zosta\u0142y wydane w roku jego \u015bmierci."
     ]
    },
    {
     "cell_type": "code",
     "collapsed": true,
     "input": [
      "author = Author.where(\"surname like 'Lem'\").first\n",
      "kod = \"<ul><b>Ksi\u0105\u017cki</b>\"\n",
      "author.books.where(\"published like #{author.died.strftime('%Y')}\").each do |book|\n",
      "  kod += \"<li>#{book.published.to_s + ': '}#{book.title}</li>\"\n",
      "end\n",
      "kod += \"</ul>\"\n",
      "IRuby.html kod"
     ],
     "language": "python",
     "metadata": {},
     "outputs": [
      {
       "html": [
        "<ul><b>Ksi\u0105\u017cki</b><li>2006: Rasa drapie\u017cc\u00f3w. Teksty ostatnie</li></ul>"
       ],
       "metadata": {},
       "output_type": "pyout",
       "prompt_number": 143,
       "text": [
        "\"<ul><b>Ksi\u0105\u017cki</b><li>2006: Rasa drapie\u017cc\u00f3w. Teksty ostatnie</li></ul>\""
       ]
      }
     ],
     "prompt_number": 143
    },
    {
     "cell_type": "heading",
     "level": 3,
     "metadata": {},
     "source": [
      "Zadanie 9"
     ]
    },
    {
     "cell_type": "markdown",
     "metadata": {},
     "source": [
      "Wy\u015bwietl wszystkie ksi\u0105\u017cki znajduj\u0105ce si\u0119 w bazie. Opis powinien zawiera\u0107 tytu\u0142, imi\u0119 i nazwisko autora, rok wydania oraz \n",
      "obraz przedstawiaj\u0105cy ksi\u0105\u017ck\u0119 (o ile istnieje)."
     ]
    },
    {
     "cell_type": "code",
     "collapsed": true,
     "input": [
      "def display_book(book)\n",
      "  \"<h1>#{book.title}</h1>\n",
      "    <h2>#{book.author.name} #{book.author.surname}</h2>\n",
      "    <p>Wyd. #{book.published}</p>\n",
      "    <img src='#{book.image_url}'/>\"\n",
      "end\n",
      "\n",
      "books = Book.all\n",
      "kod = ' '\n",
      "books.each do |book|\n",
      "  kod += display_book(book)\n",
      "end\n",
      "IRuby.html kod"
     ],
     "language": "python",
     "metadata": {},
     "outputs": [
      {
       "html": [
        " <h1>V\u00e9gj\u00e1t\u00e9k (reg\u00e9ny)</h1>\n",
        "    <h2>Orson Scott Card</h2>\n",
        "    <p>Wyd. </p>\n",
        "    <img src=''/><h1>Pani Jeziora (powie\u015b\u0107)</h1>\n",
        "    <h2>Andrzej Sapkowski</h2>\n",
        "    <p>Wyd. 1999</p>\n",
        "    <img src=''/><h1>Bellew Zawierucha</h1>\n",
        "    <h2>Jack London</h2>\n",
        "    <p>Wyd. 1912</p>\n",
        "    <img src=''/><h1>Fa\u0142szywy trop (powie\u015b\u0107)</h1>\n",
        "    <h2>Henning Mankell</h2>\n",
        "    <p>Wyd. 1995</p>\n",
        "    <img src=''/><h1>Bajki robot\u00f3w</h1>\n",
        "    <h2>Stanis\u0142aw Lem</h2>\n",
        "    <p>Wyd. 1964</p>\n",
        "    <img src=''/><h1>Boles\u0142aw Chrobry (powie\u015b\u0107)</h1>\n",
        "    <h2>Antoni Go\u0142ubiew</h2>\n",
        "    <p>Wyd. 1947</p>\n",
        "    <img src=''/><h1>De revolutionibus orbium coelestium</h1>\n",
        "    <h2>Miko\u0142aj Kopernik</h2>\n",
        "    <p>Wyd. 1543</p>\n",
        "    <img src=''/><h1>Dzie\u0142o Wielkiego Mi\u0142osierdzia</h1>\n",
        "    <h2>Maria Franciszka Koz\u0142owska</h2>\n",
        "    <p>Wyd. 1922</p>\n",
        "    <img src=''/><h1>Folwark zwierz\u0119cy</h1>\n",
        "    <h2>George Orwell</h2>\n",
        "    <p>Wyd. 1945</p>\n",
        "    <img src='http://commons.wikimedia.org/wiki/Special:FilePath/Animalism_flag.svg?width=300'/><h1>Hamlet</h1>\n",
        "    <h2>William Szekspir</h2>\n",
        "    <p>Wyd. </p>\n",
        "    <img src='http://commons.wikimedia.org/wiki/Special:FilePath/Hamlet_quarto_3rd.jpg?width=300'/><h1>Harry Potter</h1>\n",
        "    <h2>J. K. Rowling</h2>\n",
        "    <p>Wyd. 1997</p>\n",
        "    <img src='http://commons.wikimedia.org/wiki/Special:FilePath/Harry_Potter_wordmark.svg?width=300'/><h1>Hobbit, czyli tam i z powrotem</h1>\n",
        "    <h2>John Ronald Reuel Tolkien</h2>\n",
        "    <p>Wyd. 1937</p>\n",
        "    <img src=''/><h1>Hrabia Monte Christo</h1>\n",
        "    <h2>Aleksander Dumas (ojciec)</h2>\n",
        "    <p>Wyd. 1844</p>\n",
        "    <img src='http://commons.wikimedia.org/wiki/Special:FilePath/Louis_Fran\u00e7ais-Dant\u00e8s_sur_son_rocher.jpg?width=300'/><h1>Kariera Nikodema Dyzmy</h1>\n",
        "    <h2>Tadeusz Do\u0142\u0119ga-Mostowicz</h2>\n",
        "    <p>Wyd. 1932</p>\n",
        "    <img src=''/><h1>Krzy\u017cacy (powie\u015b\u0107)</h1>\n",
        "    <h2>Henryk Sienkiewicz</h2>\n",
        "    <p>Wyd. 1900</p>\n",
        "    <img src='http://commons.wikimedia.org/wiki/Special:FilePath/PL_Henryk_Sienkiewicz-Krzy\u017cacy_0005.jpeg?width=300'/><h1>Lolita</h1>\n",
        "    <h2>Vladimir Nabokov</h2>\n",
        "    <p>Wyd. 1955</p>\n",
        "    <img src=''/><h1>Mein Kampf</h1>\n",
        "    <h2>Adolf Hitler</h2>\n",
        "    <p>Wyd. 1925</p>\n",
        "    <img src='http://commons.wikimedia.org/wiki/Special:FilePath/Landsberg.Jail.jpg?width=300'/><h1>Nad Niemnem</h1>\n",
        "    <h2>Eliza Orzeszkowa</h2>\n",
        "    <p>Wyd. 1888</p>\n",
        "    <img src='http://commons.wikimedia.org/wiki/Special:FilePath/Nad_Niemnem_-_manuscript.jpg?width=300'/><h1>Niedoko\u0144czone opowie\u015bci</h1>\n",
        "    <h2>Christopher Tolkien</h2>\n",
        "    <p>Wyd. 1980</p>\n",
        "    <img src=''/><h1>Nowe Ateny</h1>\n",
        "    <h2>Benedykt Chmielowski</h2>\n",
        "    <p>Wyd. 1745</p>\n",
        "    <img src='http://commons.wikimedia.org/wiki/Special:FilePath/Nowe_ateny1.jpg?width=300'/><h1>Nowy wspania\u0142y \u015bwiat</h1>\n",
        "    <h2>Aldous Huxley</h2>\n",
        "    <p>Wyd. 1932</p>\n",
        "    <img src=''/><h1>Ogniem i mieczem</h1>\n",
        "    <h2>Henryk Sienkiewicz</h2>\n",
        "    <p>Wyd. 1884</p>\n",
        "    <img src='http://commons.wikimedia.org/wiki/Special:FilePath/Podbipieta.JPG?width=300'/><h1>Ojciec Goriot</h1>\n",
        "    <h2>Honor\u00e9 de Balzac</h2>\n",
        "    <p>Wyd. 1835</p>\n",
        "    <img src='http://commons.wikimedia.org/wiki/Special:FilePath/Father_Goriot_by_H._Daumier_(1842).JPG?width=300'/><h1>Proces (powie\u015b\u0107)</h1>\n",
        "    <h2>Franz Kafka</h2>\n",
        "    <p>Wyd. 1925</p>\n",
        "    <img src='http://commons.wikimedia.org/wiki/Special:FilePath/Kafka_Der_Prozess_1925.jpg?width=300'/><h1>Psa\u0142terz Dawid\u00f3w</h1>\n",
        "    <h2>Jan Kochanowski</h2>\n",
        "    <p>Wyd. 1579</p>\n",
        "    <img src='http://commons.wikimedia.org/wiki/Special:FilePath/Kochanowski_-_Psa\u0142terz_Dawid\u00f3w_(1579).jpg?width=300'/><h1>Quo vadis</h1>\n",
        "    <h2>Henryk Sienkiewicz</h2>\n",
        "    <p>Wyd. 1896</p>\n",
        "    <img src='http://commons.wikimedia.org/wiki/Special:FilePath/Rzym_popiersie_Sienkiewicza_w_kosciele_Domine_Quo_Vadis.JPG?width=300'/><h1>Romeo i Julia</h1>\n",
        "    <h2>William Szekspir</h2>\n",
        "    <p>Wyd. 1597</p>\n",
        "    <img src='http://commons.wikimedia.org/wiki/Special:FilePath/Romeo_and_juliet_brown.jpg?width=300'/><h1>Silmarillion</h1>\n",
        "    <h2>John Ronald Reuel Tolkien</h2>\n",
        "    <p>Wyd. 1977</p>\n",
        "    <img src='http://commons.wikimedia.org/wiki/Special:FilePath/Silmarrillion,_Just_under_the_Cover.jpg?width=300'/><h1>Solaris (powie\u015b\u0107)</h1>\n",
        "    <h2>Stanis\u0142aw Lem</h2>\n",
        "    <p>Wyd. 1961</p>\n",
        "    <img src='http://commons.wikimedia.org/wiki/Special:FilePath/Solaris,_various_editions_02.jpg?width=300'/><h1>W\u0142adca Pier\u015bcieni</h1>\n",
        "    <h2>John Ronald Reuel Tolkien</h2>\n",
        "    <p>Wyd. 1954</p>\n",
        "    <img src='http://commons.wikimedia.org/wiki/Special:FilePath/Unico_Anello.png?width=300'/><h1>Zew Cthulhu (opowiadanie)</h1>\n",
        "    <h2>Howard Phillips Lovecraft</h2>\n",
        "    <p>Wyd. 1928</p>\n",
        "    <img src=''/><h1>Znaczy Kapitan</h1>\n",
        "    <h2>Karol Olgierd Borchardt</h2>\n",
        "    <p>Wyd. 1960</p>\n",
        "    <img src=''/><h1>Anna Karenina</h1>\n",
        "    <h2>Lew To\u0142stoj</h2>\n",
        "    <p>Wyd. 1877</p>\n",
        "    <img src='http://commons.wikimedia.org/wiki/Special:FilePath/AnnaKareninaTitle.jpg?width=300'/><h1>Azazel (powie\u015b\u0107)</h1>\n",
        "    <h2>Boris Akunin</h2>\n",
        "    <p>Wyd. 1998</p>\n",
        "    <img src=''/><h1>Bezsenno\u015b\u0107 (zbi\u00f3r opowiada\u0144)</h1>\n",
        "    <h2>Stanis\u0142aw Lem</h2>\n",
        "    <p>Wyd. 1971</p>\n",
        "    <img src=''/><h1>Ca\u0142a prawda o planecie Ksi</h1>\n",
        "    <h2>Janusz Zajdel</h2>\n",
        "    <p>Wyd. 1983</p>\n",
        "    <img src=''/><h1>Dekorator</h1>\n",
        "    <h2>Boris Akunin</h2>\n",
        "    <p>Wyd. 1998</p>\n",
        "    <img src=''/><h1>Diamentowa karoca</h1>\n",
        "    <h2>Boris Akunin</h2>\n",
        "    <p>Wyd. 2003</p>\n",
        "    <img src=''/><h1>Dives in misericordia</h1>\n",
        "    <h2>Jan Pawe\u0142 II</h2>\n",
        "    <p>Wyd. 1980</p>\n",
        "    <img src='http://commons.wikimedia.org/wiki/Special:FilePath/John_paul_2_coa.svg?width=300'/><h1>Droga na molo w Wigan</h1>\n",
        "    <h2>George Orwell</h2>\n",
        "    <p>Wyd. 1937</p>\n",
        "    <img src=''/><h1>Druga Fundacja</h1>\n",
        "    <h2>Isaac Asimov</h2>\n",
        "    <p>Wyd. 1953</p>\n",
        "    <img src=''/><h1>Dwana\u015bcie krzese\u0142</h1>\n",
        "    <h2>Ilja Ilf</h2>\n",
        "    <p>Wyd. 1928</p>\n",
        "    <img src='http://commons.wikimedia.org/wiki/Special:FilePath/Ostap_Bender_Monument_in_Kharkiv.jpg?width=300'/><h1>Fundacja (powie\u015b\u0107)</h1>\n",
        "    <h2>Isaac Asimov</h2>\n",
        "    <p>Wyd. 1951</p>\n",
        "    <img src=''/><h1>Fundacja i Imperium</h1>\n",
        "    <h2>Isaac Asimov</h2>\n",
        "    <p>Wyd. 1952</p>\n",
        "    <img src=''/><h1>Gambit turecki</h1>\n",
        "    <h2>Boris Akunin</h2>\n",
        "    <p>Wyd. 1998</p>\n",
        "    <img src=''/><h1>G\u0142os Pana</h1>\n",
        "    <h2>Stanis\u0142aw Lem</h2>\n",
        "    <p>Wyd. 1968</p>\n",
        "    <img src=''/><h1>Ich czworo</h1>\n",
        "    <h2>Gabriela Zapolska</h2>\n",
        "    <p>Wyd. 1907</p>\n",
        "    <img src=''/><h1>Inwazja z Aldebarana (zbi\u00f3r opowiada\u0144)</h1>\n",
        "    <h2>Stanis\u0142aw Lem</h2>\n",
        "    <p>Wyd. 1959</p>\n",
        "    <img src=''/><h1>Kamienna ma\u0142pa</h1>\n",
        "    <h2>Jeffery Deaver</h2>\n",
        "    <p>Wyd. 2002</p>\n",
        "    <img src=''/><h1>Katar (powie\u015b\u0107)</h1>\n",
        "    <h2>Stanis\u0142aw Lem</h2>\n",
        "    <p>Wyd. 1976</p>\n",
        "    <img src=''/><h1>Kochanek \u015amierci</h1>\n",
        "    <h2>Boris Akunin</h2>\n",
        "    <p>Wyd. 2001</p>\n",
        "    <img src=''/><h1>Kochanka \u015amierci</h1>\n",
        "    <h2>Boris Akunin</h2>\n",
        "    <p>Wyd. 2001</p>\n",
        "    <img src=''/><h1>Koronacja (powie\u015b\u0107)</h1>\n",
        "    <h2>Boris Akunin</h2>\n",
        "    <p>Wyd. 1999</p>\n",
        "    <img src=''/><h1>Kot w stanie czystym</h1>\n",
        "    <h2>Terry Pratchett</h2>\n",
        "    <p>Wyd. 1989</p>\n",
        "    <img src=''/><h1>Ko\u0144 i jego ch\u0142opiec</h1>\n",
        "    <h2>Clive Staples Lewis</h2>\n",
        "    <p>Wyd. 1954</p>\n",
        "    <img src=''/><h1>Ksi\u0119ga robot\u00f3w</h1>\n",
        "    <h2>Stanis\u0142aw Lem</h2>\n",
        "    <p>Wyd. 1961</p>\n",
        "    <img src=''/><h1>Ksi\u0119gi narodu polskiego i pielgrzymstwa polskiego</h1>\n",
        "    <h2>Adam Mickiewicz</h2>\n",
        "    <p>Wyd. 1832</p>\n",
        "    <img src='http://commons.wikimedia.org/wiki/Special:FilePath/PL_Ksi\u0119gi_narodu_polskiego_i_pielgrzymstwa_polskiego_008.png?width=300'/><h1>Kuzynki</h1>\n",
        "    <h2>Andrzej Pilipiuk</h2>\n",
        "    <p>Wyd. 2003</p>\n",
        "    <img src=''/><h1>Lewa r\u0119ka ciemno\u015bci</h1>\n",
        "    <h2>Ursula K. Le Guin</h2>\n",
        "    <p>Wyd. 1969</p>\n",
        "    <img src=''/><h1>Lewiatan (powie\u015b\u0107)</h1>\n",
        "    <h2>Boris Akunin</h2>\n",
        "    <p>Wyd. 1998</p>\n",
        "    <img src=''/><h1>Mag (powie\u015b\u0107 J. Deavera)</h1>\n",
        "    <h2>Jeffery Deaver</h2>\n",
        "    <p>Wyd. 2003</p>\n",
        "    <img src=''/><h1>Maska (zbi\u00f3r dzie\u0142)</h1>\n",
        "    <h2>Stanis\u0142aw Lem</h2>\n",
        "    <p>Wyd. 1976</p>\n",
        "    <img src=''/><h1>Niezwyci\u0119\u017cony i inne opowiadania</h1>\n",
        "    <h2>Stanis\u0142aw Lem</h2>\n",
        "    <p>Wyd. 1964</p>\n",
        "    <img src=''/><h1>Noc ksi\u0119\u017cycowa</h1>\n",
        "    <h2>Stanis\u0142aw Lem</h2>\n",
        "    <p>Wyd. 1963</p>\n",
        "    <img src=''/><h1>Ojcowie i dzieci</h1>\n",
        "    <h2>Iwan Turgieniew</h2>\n",
        "    <p>Wyd. 0</p>\n",
        "    <img src='http://commons.wikimedia.org/wiki/Special:FilePath/Otsy1880.jpg?width=300'/><h1>Pami\u0119tnik znaleziony w wannie</h1>\n",
        "    <h2>Stanis\u0142aw Lem</h2>\n",
        "    <p>Wyd. 1961</p>\n",
        "    <img src=''/><h1>Pie\u015b\u0144 Lodu i Ognia</h1>\n",
        "    <h2>George R. R. Martin</h2>\n",
        "    <p>Wyd. 1996</p>\n",
        "    <img src=''/><h1>Podr\u00f3\u017ce z Herodotem</h1>\n",
        "    <h2>Ryszard Kapu\u015bci\u0144ski</h2>\n",
        "    <p>Wyd. 2004</p>\n",
        "    <img src=''/><h1>Polowanie (zbi\u00f3r opowiada\u0144)</h1>\n",
        "    <h2>Stanis\u0142aw Lem</h2>\n",
        "    <p>Wyd. 1965</p>\n",
        "    <img src=''/><h1>Powt\u00f3rka (zbi\u00f3r dzie\u0142)</h1>\n",
        "    <h2>Stanis\u0142aw Lem</h2>\n",
        "    <p>Wyd. 1979</p>\n",
        "    <img src=''/><h1>Po\u017cytek ze smoka</h1>\n",
        "    <h2>Stanis\u0142aw Lem</h2>\n",
        "    <p>Wyd. 1993</p>\n",
        "    <img src=''/><h1>Preludium Fundacji</h1>\n",
        "    <h2>Isaac Asimov</h2>\n",
        "    <p>Wyd. 1988</p>\n",
        "    <img src=''/><h1>Radca stanu (powie\u015b\u0107)</h1>\n",
        "    <h2>Boris Akunin</h2>\n",
        "    <p>Wyd. 1998</p>\n",
        "    <img src=''/><h1>Rasa drapie\u017cc\u00f3w. Teksty ostatnie</h1>\n",
        "    <h2>Stanis\u0142aw Lem</h2>\n",
        "    <p>Wyd. 2006</p>\n",
        "    <img src=''/><h1>Rilla ze Z\u0142otego Brzegu</h1>\n",
        "    <h2>Lucy Maud Montgomery</h2>\n",
        "    <p>Wyd. 1921</p>\n",
        "    <img src=''/><h1>Sen nocy letniej</h1>\n",
        "    <h2>William Szekspir</h2>\n",
        "    <p>Wyd. 1600</p>\n",
        "    <img src='http://commons.wikimedia.org/wiki/Special:FilePath/MND_title_page.jpg?width=300'/><h1>Sezam i inne opowiadania</h1>\n",
        "    <h2>Stanis\u0142aw Lem</h2>\n",
        "    <p>Wyd. 1954</p>\n",
        "    <img src=''/><h1>Slavorum apostoli</h1>\n",
        "    <h2>Jan Pawe\u0142 II</h2>\n",
        "    <p>Wyd. 1985</p>\n",
        "    <img src='http://commons.wikimedia.org/wiki/Special:FilePath/John_paul_2_coa.svg?width=300'/><h1>Summa technologiae</h1>\n",
        "    <h2>Stanis\u0142aw Lem</h2>\n",
        "    <p>Wyd. 1964</p>\n",
        "    <img src=''/><h1>Tam gdzie spadaj\u0105 anio\u0142y</h1>\n",
        "    <h2>Dorota Terakowska</h2>\n",
        "    <p>Wyd. 1998</p>\n",
        "    <img src=''/><h1>Tomek u \u017ar\u00f3de\u0142 Amazonki</h1>\n",
        "    <h2>Alfred Szklarski</h2>\n",
        "    <p>Wyd. 1967</p>\n",
        "    <img src=''/><h1>Tomek w Gran Chaco</h1>\n",
        "    <h2>Alfred Szklarski</h2>\n",
        "    <p>Wyd. 1987</p>\n",
        "    <img src=''/><h1>Tomek w grobowcach faraon\u00f3w</h1>\n",
        "    <h2>Alfred Szklarski</h2>\n",
        "    <p>Wyd. 1994</p>\n",
        "    <img src=''/><h1>Ut unum sint</h1>\n",
        "    <h2>Jan Pawe\u0142 II</h2>\n",
        "    <p>Wyd. 1995</p>\n",
        "    <img src='http://commons.wikimedia.org/wiki/Special:FilePath/John_paul_2_coa.svg?width=300'/><h1>Veritatis splendor</h1>\n",
        "    <h2>Jan Pawe\u0142 II</h2>\n",
        "    <p>Wyd. 1993</p>\n",
        "    <img src='http://commons.wikimedia.org/wiki/Special:FilePath/John_paul_2_coa.svg?width=300'/><h1>Walc stulecia</h1>\n",
        "    <h2>Rafa\u0142 A. Ziemkiewicz</h2>\n",
        "    <p>Wyd. 1998</p>\n",
        "    <img src=''/><h1>Walet pikowy (powie\u015b\u0107)</h1>\n",
        "    <h2>Boris Akunin</h2>\n",
        "    <p>Wyd. 1998</p>\n",
        "    <img src=''/><h1>Wampir Lestat</h1>\n",
        "    <h2>Anne Rice</h2>\n",
        "    <p>Wyd. 1985</p>\n",
        "    <img src=''/><h1>Wizja lokalna (powie\u015b\u0107)</h1>\n",
        "    <h2>Stanis\u0142aw Lem</h2>\n",
        "    <p>Wyd. 1982</p>\n",
        "    <img src=''/><h1>Wojna i pok\u00f3j</h1>\n",
        "    <h2>Lew To\u0142stoj</h2>\n",
        "    <p>Wyd. 1865</p>\n",
        "    <img src='http://commons.wikimedia.org/wiki/Special:FilePath/War-and-peace_1873.gif?width=300'/><h1>\u015amier\u0107 Achillesa</h1>\n",
        "    <h2>Boris Akunin</h2>\n",
        "    <p>Wyd. 1998</p>\n",
        "    <img src=''/><h1>\u017bycie i przygody Remusa</h1>\n",
        "    <h2>Aleksander Majkowski</h2>\n",
        "    <p>Wyd. 1938</p>\n",
        "    <img src=''/><h1>Casino Royale (powie\u015b\u0107)</h1>\n",
        "    <h2>Ian Fleming</h2>\n",
        "    <p>Wyd. 1953</p>\n",
        "    <img src=''/><h1>Cie\u0144 kata</h1>\n",
        "    <h2>Gene Wolfe</h2>\n",
        "    <p>Wyd. 1980</p>\n",
        "    <img src=''/><h1>Czarnoksi\u0119\u017cnik z Archipelagu</h1>\n",
        "    <h2>Ursula K. Le Guin</h2>\n",
        "    <p>Wyd. 1968</p>\n",
        "    <img src=''/><h1>Czarownica z Portobello</h1>\n",
        "    <h2>Paulo Coelho</h2>\n",
        "    <p>Wyd. 2006</p>\n",
        "    <img src=''/><h1>Czas patriot\u00f3w (powie\u015b\u0107)</h1>\n",
        "    <h2>Tom Clancy</h2>\n",
        "    <p>Wyd. 1987</p>\n",
        "    <img src=''/>"
       ],
       "metadata": {},
       "output_type": "pyout",
       "prompt_number": 145,
       "text": [
        "\" <h1>V\u00e9gj\u00e1t\u00e9k (reg\u00e9ny)</h1>\\n    <h2>Orson Scott Card</h2>\\n    <p>Wyd. </p>\\n    <img src=''/><h1>Pani Jeziora (powie\u015b\u0107)</h1>\\n    <h2>Andrzej Sapkowski</h2>\\n    <p>Wyd. 1999</p>\\n    <img src=''/><h1>Bellew Zawierucha</h1>\\n    <h2>Jack London</h2>\\n    <p>Wyd. 1912</p>\\n    <img src=''/><h1>Fa\u0142szywy trop (powie\u015b\u0107)</h1>\\n    <h2>Henning Mankell</h2>\\n    <p>Wyd. 1995</p>\\n    <img src=''/><h1>Bajki robot\u00f3w</h1>\\n    <h2>Stanis\u0142aw Lem</h2>\\n    <p>Wyd. 1964</p>\\n    <img src=''/><h1>Boles\u0142aw Chrobry (powie\u015b\u0107)</h1>\\n    <h2>Antoni Go\u0142ubiew</h2>\\n    <p>Wyd. 1947</p>\\n    <img src=''/><h1>De revolutionibus orbium coelestium</h1>\\n    <h2>Miko\u0142aj Kopernik</h2>\\n    <p>Wyd. 1543</p>\\n    <img src=''/><h1>Dzie\u0142o Wielkiego Mi\u0142osierdzia</h1>\\n    <h2>Maria Franciszka Koz\u0142owska</h2>\\n    <p>Wyd. 1922</p>\\n    <img src=''/><h1>Folwark zwierz\u0119cy</h1>\\n    <h2>George Orwell</h2>\\n    <p>Wyd. 1945</p>\\n    <img src='http://commons.wikimedia.org/wiki/Special:FilePath/Animalism_flag.svg?width=300'/><h1>Hamlet</h1>\\n    <h2>William Szekspir</h2>\\n    <p>Wyd. </p>\\n    <img src='http://commons.wikimedia.org/wiki/Special:FilePath/Hamlet_quarto_3rd.jpg?width=300'/><h1>Harry Potter</h1>\\n    <h2>J. K. Rowling</h2>\\n    <p>Wyd. 1997</p>\\n    <img src='http://commons.wikimedia.org/wiki/Special:FilePath/Harry_Potter_wordmark.svg?width=300'/><h1>Hobbit, czyli tam i z powrotem</h1>\\n    <h2>John Ronald Reuel Tolkien</h2>\\n    <p>Wyd. 1937</p>\\n    <img src=''/><h1>Hrabia Monte Christo</h1>\\n    <h2>Aleksander Dumas (ojciec)</h2>\\n    <p>Wyd. 1844</p>\\n    <img src='http://commons.wikimedia.org/wiki/Special:FilePath/Louis_Fran\u00e7ais-Dant\u00e8s_sur_son_rocher.jpg?width=300'/><h1>Kariera Nikodema Dyzmy</h1>\\n    <h2>Tadeusz Do\u0142\u0119ga-Mostowicz</h2>\\n    <p>Wyd. 1932</p>\\n    <img src=''/><h1>Krzy\u017cacy (powie\u015b\u0107)</h1>\\n    <h2>Henryk Sienkiewicz</h2>\\n    <p>Wyd. 1900</p>\\n    <img src='http://commons.wikimedia.org/wiki/Special:FilePath/PL_Henryk_Sienkiewicz-Krzy\u017cacy_0005.jpeg?width=300'/><h1>Lolita</h1>\\n    <h2>Vladimir Nabokov</h2>\\n    <p>Wyd. 1955</p>\\n    <img src=''/><h1>Mein Kampf</h1>\\n    <h2>Adolf Hitler</h2>\\n    <p>Wyd. 1925</p>\\n    <img src='http://commons.wikimedia.org/wiki/Special:FilePath/Landsberg.Jail.jpg?width=300'/><h1>Nad Niemnem</h1>\\n    <h2>Eliza Orzeszkowa</h2>\\n    <p>Wyd. 1888</p>\\n    <img src='http://commons.wikimedia.org/wiki/Special:FilePath/Nad_Niemnem_-_manuscript.jpg?width=300'/><h1>Niedoko\u0144czone opowie\u015bci</h1>\\n    <h2>Christopher Tolkien</h2>\\n    <p>Wyd. 1980</p>\\n    <img src=''/><h1>Nowe Ateny</h1>\\n    <h2>Benedykt Chmielowski</h2>\\n    <p>Wyd. 1745</p>\\n    <img src='http://commons.wikimedia.org/wiki/Special:FilePath/Nowe_ateny1.jpg?width=300'/><h1>Nowy wspania\u0142y \u015bwiat</h1>\\n    <h2>Aldous Huxley</h2>\\n    <p>Wyd. 1932</p>\\n    <img src=''/><h1>Ogniem i mieczem</h1>\\n    <h2>Henryk Sienkiewicz</h2>\\n    <p>Wyd. 1884</p>\\n    <img src='http://commons.wikimedia.org/wiki/Special:FilePath/Podbipieta.JPG?width=300'/><h1>Ojciec Goriot</h1>\\n    <h2>Honor\u00e9 de Balzac</h2>\\n    <p>Wyd. 1835</p>\\n    <img src='http://commons.wikimedia.org/wiki/Special:FilePath/Father_Goriot_by_H._Daumier_(1842).JPG?width=300'/><h1>Proces (powie\u015b\u0107)</h1>\\n    <h2>Franz Kafka</h2>\\n    <p>Wyd. 1925</p>\\n    <img src='http://commons.wikimedia.org/wiki/Special:FilePath/Kafka_Der_Prozess_1925.jpg?width=300'/><h1>Psa\u0142terz Dawid\u00f3w</h1>\\n    <h2>Jan Kochanowski</h2>\\n    <p>Wyd. 1579</p>\\n    <img src='http://commons.wikimedia.org/wiki/Special:FilePath/Kochanowski_-_Psa\u0142terz_Dawid\u00f3w_(1579).jpg?width=300'/><h1>Quo vadis</h1>\\n    <h2>Henryk Sienkiewicz</h2>\\n    <p>Wyd. 1896</p>\\n    <img src='http://commons.wikimedia.org/wiki/Special:FilePath/Rzym_popiersie_Sienkiewicza_w_kosciele_Domine_Quo_Vadis.JPG?width=300'/><h1>Romeo i Julia</h1>\\n    <h2>William Szekspir</h2>\\n    <p>Wyd. 1597</p>\\n    <img src='http://commons.wikimedia.org/wiki/Special:FilePath/Romeo_and_juliet_brown.jpg?width=300'/><h1>Silmarillion</h1>\\n    <h2>John Ronald Reuel Tolkien</h2>\\n    <p>Wyd. 1977</p>\\n    <img src='http://commons.wikimedia.org/wiki/Special:FilePath/Silmarrillion,_Just_under_the_Cover.jpg?width=300'/><h1>Solaris (powie\u015b\u0107)</h1>\\n    <h2>Stanis\u0142aw Lem</h2>\\n    <p>Wyd. 1961</p>\\n    <img src='http://commons.wikimedia.org/wiki/Special:FilePath/Solaris,_various_editions_02.jpg?width=300'/><h1>W\u0142adca Pier\u015bcieni</h1>\\n    <h2>John Ronald Reuel Tolkien</h2>\\n    <p>Wyd. 1954</p>\\n    <img src='http://commons.wikimedia.org/wiki/Special:FilePath/Unico_Anello.png?width=300'/><h1>Zew Cthulhu (opowiadanie)</h1>\\n    <h2>Howard Phillips Lovecraft</h2>\\n    <p>Wyd. 1928</p>\\n    <img src=''/><h1>Znaczy Kapitan</h1>\\n    <h2>Karol Olgierd Borchardt</h2>\\n    <p>Wyd. 1960</p>\\n    <img src=''/><h1>Anna Karenina</h1>\\n    <h2>Lew To\u0142stoj</h2>\\n    <p>Wyd. 1877</p>\\n    <img src='http://commons.wikimedia.org/wiki/Special:FilePath/AnnaKareninaTitle.jpg?width=300'/><h1>Azazel (powie\u015b\u0107)</h1>\\n    <h2>Boris Akunin</h2>\\n    <p>Wyd. 1998</p>\\n    <img src=''/><h1>Bezsenno\u015b\u0107 (zbi\u00f3r opowiada\u0144)</h1>\\n    <h2>Stanis\u0142aw Lem</h2>\\n    <p>Wyd. 1971</p>\\n    <img src=''/><h1>Ca\u0142a prawda o planecie Ksi</h1>\\n    <h2>Janusz Zajdel</h2>\\n    <p>Wyd. 1983</p>\\n    <img src=''/><h1>Dekorator</h1>\\n    <h2>Boris Akunin</h2>\\n    <p>Wyd. 1998</p>\\n    <img src=''/><h1>Diamentowa karoca</h1>\\n    <h2>Boris Akunin</h2>\\n    <p>Wyd. 2003</p>\\n    <img src=''/><h1>Dives in misericordia</h1>\\n    <h2>Jan Pawe\u0142 II</h2>\\n    <p>Wyd. 1980</p>\\n    <img src='http://commons.wikimedia.org/wiki/Special:FilePath/John_paul_2_coa.svg?width=300'/><h1>Droga na molo w Wigan</h1>\\n    <h2>George Orwell</h2>\\n    <p>Wyd. 1937</p>\\n    <img src=''/><h1>Druga Fundacja</h1>\\n    <h2>Isaac Asimov</h2>\\n    <p>Wyd. 1953</p>\\n    <img src=''/><h1>Dwana\u015bcie krzese\u0142</h1>\\n    <h2>Ilja Ilf</h2>\\n    <p>Wyd. 1928</p>\\n    <img src='http://commons.wikimedia.org/wiki/Special:FilePath/Ostap_Bender_Monument_in_Kharkiv.jpg?width=300'/><h1>Fundacja (powie\u015b\u0107)</h1>\\n    <h2>Isaac Asimov</h2>\\n    <p>Wyd. 1951</p>\\n    <img src=''/><h1>Fundacja i Imperium</h1>\\n    <h2>Isaac Asimov</h2>\\n    <p>Wyd. 1952</p>\\n    <img src=''/><h1>Gambit turecki</h1>\\n    <h2>Boris Akunin</h2>\\n    <p>Wyd. 1998</p>\\n    <img src=''/><h1>G\u0142os Pana</h1>\\n    <h2>Stanis\u0142aw Lem</h2>\\n    <p>Wyd. 1968</p>\\n    <img src=''/><h1>Ich czworo</h1>\\n    <h2>Gabriela Zapolska</h2>\\n    <p>Wyd. 1907</p>\\n    <img src=''/><h1>Inwazja z Aldebarana (zbi\u00f3r opowiada\u0144)</h1>\\n    <h2>Stanis\u0142aw Lem</h2>\\n    <p>Wyd. 1959</p>\\n    <img src=''/><h1>Kamienna ma\u0142pa</h1>\\n    <h2>Jeffery Deaver</h2>\\n    <p>Wyd. 2002</p>\\n    <img src=''/><h1>Katar (powie\u015b\u0107)</h1>\\n    <h2>Stanis\u0142aw Lem</h2>\\n    <p>Wyd. 1976</p>\\n    <img src=''/><h1>Kochanek \u015amierci</h1>\\n    <h2>Boris Akunin</h2>\\n    <p>Wyd. 2001</p>\\n    <img src=''/><h1>Kochanka \u015amierci</h1>\\n    <h2>Boris Akunin</h2>\\n    <p>Wyd. 2001</p>\\n    <img src=''/><h1>Koronacja (powie\u015b\u0107)</h1>\\n    <h2>Boris Akunin</h2>\\n    <p>Wyd. 1999</p>\\n    <img src=''/><h1>Kot w stanie czystym</h1>\\n    <h2>Terry Pratchett</h2>\\n    <p>Wyd. 1989</p>\\n    <img src=''/><h1>Ko\u0144 i jego ch\u0142opiec</h1>\\n    <h2>Clive Staples Lewis</h2>\\n    <p>Wyd. 1954</p>\\n    <img src=''/><h1>Ksi\u0119ga robot\u00f3w</h1>\\n    <h2>Stanis\u0142aw Lem</h2>\\n    <p>Wyd. 1961</p>\\n    <img src=''/><h1>Ksi\u0119gi narodu polskiego i pielgrzymstwa polskiego</h1>\\n    <h2>Adam Mickiewicz</h2>\\n    <p>Wyd. 1832</p>\\n    <img src='http://commons.wikimedia.org/wiki/Special:FilePath/PL_Ksi\u0119gi_narodu_polskiego_i_pielgrzymstwa_polskiego_008.png?width=300'/><h1>Kuzynki</h1>\\n    <h2>Andrzej Pilipiuk</h2>\\n    <p>Wyd. 2003</p>\\n    <img src=''/><h1>Lewa r\u0119ka ciemno\u015bci</h1>\\n    <h2>Ursula K. Le Guin</h2>\\n    <p>Wyd. 1969</p>\\n    <img src=''/><h1>Lewiatan (powie\u015b\u0107)</h1>\\n    <h2>Boris Akunin</h2>\\n    <p>Wyd. 1998</p>\\n    <img src=''/><h1>Mag (powie\u015b\u0107 J. Deavera)</h1>\\n    <h2>Jeffery Deaver</h2>\\n    <p>Wyd. 2003</p>\\n    <img src=''/><h1>Maska (zbi\u00f3r dzie\u0142)</h1>\\n    <h2>Stanis\u0142aw Lem</h2>\\n    <p>Wyd. 1976</p>\\n    <img src=''/><h1>Niezwyci\u0119\u017cony i inne opowiadania</h1>\\n    <h2>Stanis\u0142aw Lem</h2>\\n    <p>Wyd. 1964</p>\\n    <img src=''/><h1>Noc ksi\u0119\u017cycowa</h1>\\n    <h2>Stanis\u0142aw Lem</h2>\\n    <p>Wyd. 1963</p>\\n    <img src=''/><h1>Ojcowie i dzieci</h1>\\n    <h2>Iwan Turgieniew</h2>\\n    <p>Wyd. 0</p>\\n    <img src='http://commons.wikimedia.org/wiki/Special:FilePath/Otsy1880.jpg?width=300'/><h1>Pami\u0119tnik znaleziony w wannie</h1>\\n    <h2>Stanis\u0142aw Lem</h2>\\n    <p>Wyd. 1961</p>\\n    <img src=''/><h1>Pie\u015b\u0144 Lodu i Ognia</h1>\\n    <h2>George R. R. Martin</h2>\\n    <p>Wyd. 1996</p>\\n    <img src=''/><h1>Podr\u00f3\u017ce z Herodotem</h1>\\n    <h2>Ryszard Kapu\u015bci\u0144ski</h2>\\n    <p>Wyd. 2004</p>\\n    <img src=''/><h1>Polowanie (zbi\u00f3r opowiada\u0144)</h1>\\n    <h2>Stanis\u0142aw Lem</h2>\\n    <p>Wyd. 1965</p>\\n    <img src=''/><h1>Powt\u00f3rka (zbi\u00f3r dzie\u0142)</h1>\\n    <h2>Stanis\u0142aw Lem</h2>\\n    <p>Wyd. 1979</p>\\n    <img src=''/><h1>Po\u017cytek ze smoka</h1>\\n    <h2>Stanis\u0142aw Lem</h2>\\n    <p>Wyd. 1993</p>\\n    <img src=''/><h1>Preludium Fundacji</h1>\\n    <h2>Isaac Asimov</h2>\\n    <p>Wyd. 1988</p>\\n    <img src=''/><h1>Radca stanu (powie\u015b\u0107)</h1>\\n    <h2>Boris Akunin</h2>\\n    <p>Wyd. 1998</p>\\n    <img src=''/><h1>Rasa drapie\u017cc\u00f3w. Teksty ostatnie</h1>\\n    <h2>Stanis\u0142aw Lem</h2>\\n    <p>Wyd. 2006</p>\\n    <img src=''/><h1>Rilla ze Z\u0142otego Brzegu</h1>\\n    <h2>Lucy Maud Montgomery</h2>\\n    <p>Wyd. 1921</p>\\n    <img src=''/><h1>Sen nocy letniej</h1>\\n    <h2>William Szekspir</h2>\\n    <p>Wyd. 1600</p>\\n    <img src='http://commons.wikimedia.org/wiki/Special:FilePath/MND_title_page.jpg?width=300'/><h1>Sezam i inne opowiadania</h1>\\n    <h2>Stanis\u0142aw Lem</h2>\\n    <p>Wyd. 1954</p>\\n    <img src=''/><h1>Slavorum apostoli</h1>\\n    <h2>Jan Pawe\u0142 II</h2>\\n    <p>Wyd. 1985</p>\\n    <img src='http://commons.wikimedia.org/wiki/Special:FilePath/John_paul_2_coa.svg?width=300'/><h1>Summa technologiae</h1>\\n    <h2>Stanis\u0142aw Lem</h2>\\n    <p>Wyd. 1964</p>\\n    <img src=''/><h1>Tam gdzie spadaj\u0105 anio\u0142y</h1>\\n    <h2>Dorota Terakowska</h2>\\n    <p>Wyd. 1998</p>\\n    <img src=''/><h1>Tomek u \u017ar\u00f3de\u0142 Amazonki</h1>\\n    <h2>Alfred Szklarski</h2>\\n    <p>Wyd. 1967</p>\\n    <img src=''/><h1>Tomek w Gran Chaco</h1>\\n    <h2>Alfred Szklarski</h2>\\n    <p>Wyd. 1987</p>\\n    <img src=''/><h1>Tomek w grobowcach faraon\u00f3w</h1>\\n    <h2>Alfred Szklarski</h2>\\n    <p>Wyd. 1994</p>\\n    <img src=''/><h1>Ut unum sint</h1>\\n    <h2>Jan Pawe\u0142 II</h2>\\n    <p>Wyd. 1995</p>\\n    <img src='http://commons.wikimedia.org/wiki/Special:FilePath/John_paul_2_coa.svg?width=300'/><h1>Veritatis splendor</h1>\\n    <h2>Jan Pawe\u0142 II</h2>\\n    <p>Wyd. 1993</p>\\n    <img src='http://commons.wikimedia.org/wiki/Special:FilePath/John_paul_2_coa.svg?width=300'/><h1>Walc stulecia</h1>\\n    <h2>Rafa\u0142 A. Ziemkiewicz</h2>\\n    <p>Wyd. 1998</p>\\n    <img src=''/><h1>Walet pikowy (powie\u015b\u0107)</h1>\\n    <h2>Boris Akunin</h2>\\n    <p>Wyd. 1998</p>\\n    <img src=''/><h1>Wampir Lestat</h1>\\n    <h2>Anne Rice</h2>\\n    <p>Wyd. 1985</p>\\n    <img src=''/><h1>Wizja lokalna (powie\u015b\u0107)</h1>\\n    <h2>Stanis\u0142aw Lem</h2>\\n    <p>Wyd. 1982</p>\\n    <img src=''/><h1>Wojna i pok\u00f3j</h1>\\n    <h2>Lew To\u0142stoj</h2>\\n    <p>Wyd. 1865</p>\\n    <img src='http://commons.wikimedia.org/wiki/Special:FilePath/War-and-peace_1873.gif?width=300'/><h1>\u015amier\u0107 Achillesa</h1>\\n    <h2>Boris Akunin</h2>\\n    <p>Wyd. 1998</p>\\n    <img src=''/><h1>\u017bycie i przygody Remusa</h1>\\n    <h2>Aleksander Majkowski</h2>\\n    <p>Wyd. 1938</p>\\n    <img src=''/><h1>Casino Royale (powie\u015b\u0107)</h1>\\n    <h2>Ian Fleming</h2>\\n    <p>Wyd. 1953</p>\\n    <img src=''/><h1>Cie\u0144 kata</h1>\\n    <h2>Gene Wolfe</h2>\\n    <p>Wyd. 1980</p>\\n    <img src=''/><h1>Czarnoksi\u0119\u017cnik z Archipelagu</h1>\\n    <h2>Ursula K. Le Guin</h2>\\n    <p>Wyd. 1968</p>\\n    <img src=''/><h1>Czarownica z Portobello</h1>\\n    <h2>Paulo Coelho</h2>\\n    <p>Wyd. 2006</p>\\n    <img src=''/><h1>Czas patriot\u00f3w (powie\u015b\u0107)</h1>\\n    <h2>Tom Clancy</h2>\\n    <p>Wyd. 1987</p>\\n    <img src=''/>\""
       ]
      }
     ],
     "prompt_number": 145
    },
    {
     "cell_type": "heading",
     "level": 3,
     "metadata": {},
     "source": [
      "Zadanie 10"
     ]
    },
    {
     "cell_type": "markdown",
     "metadata": {},
     "source": [
      "Wy\u015bwietl wszystkich autor\u00f3w znajduj\u0105cych si\u0119 w bazie wraz z opisem zawieraj\u0105cym ich zdj\u0119cie, dat\u0119 urodzin i \u015bmierci oraz spis \n",
      "opublikowanych ksi\u0105\u017cek. Pami\u0119taj o odpowiednim sformatowaniu dat oraz o tym, \u017ce nie wszyscy autorzy maj\u0105 przypisane wszystkie\n",
      "informacje."
     ]
    },
    {
     "cell_type": "code",
     "collapsed": true,
     "input": [],
     "language": "python",
     "metadata": {},
     "outputs": [],
     "prompt_number": 1
    }
   ],
   "metadata": {}
  }
 ]
}